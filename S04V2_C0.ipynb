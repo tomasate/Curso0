{
  "nbformat": 4,
  "nbformat_minor": 0,
  "metadata": {
    "colab": {
      "name": "S04V2_C0.ipynb",
      "provenance": [],
      "collapsed_sections": []
    },
    "kernelspec": {
      "name": "python3",
      "display_name": "Python 3"
    }
  },
  "cells": [
    {
      "cell_type": "markdown",
      "metadata": {
        "id": "UCC3z7pn04PC",
        "colab_type": "text"
      },
      "source": [
        "<p><img alt=\"Colaboratory logo\" height=\"140px\" src=\"https://upload.wikimedia.org/wikipedia/commons/archive/f/fb/20161010213812%21Escudo-UdeA.svg\" align=\"left\" hspace=\"10px\" vspace=\"0px\"></p>\n",
        "\n",
        "# **Curso de bases para AI - Universidad de Antioquia**\n",
        "\n",
        "\n",
        "El presente curso hace parte del centro de Big Data de la facultad de ciencias exactas y naturales (FCEN) de la Universidad de Antioquia.\n",
        "\n",
        "\\\n",
        "\n",
        "El curso será dictado en 16 sesiones o clases de 4 horas los días sábado en las instalaciones de la universidad. Para un total de dededicación temporal de 64 horas. El curso cuenta con los siguientes módulos:\n",
        "\n",
        "1. Bases matemáticas y de programación. (10H)\n",
        "2. Bases de Python. (19H)\n",
        "3. Bases de R. (13H)\n",
        "4. Procesamiento de datos. (22H)"
      ]
    },
    {
      "cell_type": "markdown",
      "metadata": {
        "id": "UzT-q4QW06Uz",
        "colab_type": "text"
      },
      "source": [
        "#Condicionales\n",
        "Los condicionales representan una disyuntividad ante la ejecución de bloques de código según el cumplimiento de una o varias condiciones.\n",
        "\n"
      ]
    },
    {
      "cell_type": "markdown",
      "metadata": {
        "id": "RcUnlDFC2hdq",
        "colab_type": "text"
      },
      "source": [
        "##If\n",
        "If para python es un condicional. Algunos autores lo llamarán una estructura de control, con lo cual solo quieren ilustrar lo que se ha querido decir en la definición de condicional. Esta estructura permite que un programa ejecute unas instrucciones cuando se cumplan una condición. Es importante notar la palabra \"if\" en inglés traduce \"si\" como condición, no \"sí\" como afirmación.\n",
        "\n",
        "La sintaxis del condicional if es\n",
        "\n",
        "\n",
        "\n",
        "```\n",
        "if condición :\n",
        "  bloque_a_ejecutar_de_ser_condición_True\n",
        "```\n",
        "\n",
        "Veámoslo en un ejemplo."
      ]
    },
    {
      "cell_type": "code",
      "metadata": {
        "id": "WEHEYTuq2joK",
        "colab_type": "code",
        "outputId": "0f184b11-1e2a-443f-b2d2-7c9a18664501",
        "colab": {
          "base_uri": "https://localhost:8080/",
          "height": 34
        }
      },
      "source": [
        "x = int()\n",
        "if type(x)==int:\n",
        "  print(\"x es entero\")"
      ],
      "execution_count": 0,
      "outputs": [
        {
          "output_type": "stream",
          "text": [
            "x es entero\n"
          ],
          "name": "stdout"
        }
      ]
    },
    {
      "cell_type": "markdown",
      "metadata": {
        "id": "ns8HS7xr6tPe",
        "colab_type": "text"
      },
      "source": [
        "Siempre podemos meter un if en otro if"
      ]
    },
    {
      "cell_type": "code",
      "metadata": {
        "id": "QJom3Qfr2k3L",
        "colab_type": "code",
        "outputId": "60de6720-b73e-457f-f39d-63ef59574a30",
        "colab": {
          "base_uri": "https://localhost:8080/",
          "height": 34
        }
      },
      "source": [
        "x = int()\n",
        "if type(x)==int:\n",
        "  if x >= 0:\n",
        "    print(\"x es un natural\")\n",
        "  if x < 0:\n",
        "    print(\"x es un entero negativo\")"
      ],
      "execution_count": 0,
      "outputs": [
        {
          "output_type": "stream",
          "text": [
            "x es un natural\n"
          ],
          "name": "stdout"
        }
      ]
    },
    {
      "cell_type": "markdown",
      "metadata": {
        "id": "jXifiR9k-k_g",
        "colab_type": "text"
      },
      "source": [
        "#Else\n",
        "Suponga ahora que se desea ejecutar un bloque de código dado que la condición inicial sea falsa, para esto se usa el comando `else`.\n",
        "El funcionamiento de el comando `else` depende directamente de la condición del primer condicional, pues se recurre a él dada la negación de la condición de `if` y no necesita de una condición propia. La sintaxis completa sería\n",
        "\n",
        "```\n",
        "if cond :\n",
        "  bloque_a_ejecutar_de_ser_condición_True\n",
        "else :\n",
        "  bloque_a_ejecutar_de_ser_condición_False\n",
        "```\n",
        "\n",
        "Veamos un breve ejemplo comparativo al ejemplo anterior."
      ]
    },
    {
      "cell_type": "code",
      "metadata": {
        "id": "xWYQntLT9ZK2",
        "colab_type": "code",
        "outputId": "fb9745b4-7bbc-4f3b-c4bf-4984940aaab2",
        "colab": {
          "base_uri": "https://localhost:8080/",
          "height": 34
        }
      },
      "source": [
        "x = \"¿Qué tengo que escribir acá?\"\n",
        "if type(x)==int:\n",
        "  if x >= 0:\n",
        "    print(\"x es un natural\")\n",
        "  if x < 0:\n",
        "    print(\"x es un entero negativo\")\n",
        "else: \n",
        "  print(\"x no es un entero\")"
      ],
      "execution_count": 0,
      "outputs": [
        {
          "output_type": "stream",
          "text": [
            "x no es un entero\n"
          ],
          "name": "stdout"
        }
      ]
    },
    {
      "cell_type": "markdown",
      "metadata": {
        "id": "4jshm1eLAozg",
        "colab_type": "text"
      },
      "source": [
        "##Elif\n",
        "Existe un último condicional. Suponga que desea ahora imponer una condición ante la negación de la primera afirmación. Es decir, si la primera primera condición resultó falsa necesito formular otra condición. En este caso usamos el condicional `elif`. Este nace de la conjunción de `else` y `if`. Veamos su sintaxis.\n",
        "\n",
        "```\n",
        "if cond1 :\n",
        "  bloque_a_ejecutar_de_ser_condición_True\n",
        "elif cond2:\n",
        "  bloque_a_ejecutar_de_ser_cond1_False_pero_cond2_True \n",
        "```\n",
        "\n",
        "Veámoslo con nuestro ejemplo."
      ]
    },
    {
      "cell_type": "code",
      "metadata": {
        "id": "1R2o0JZqCAuG",
        "colab_type": "code",
        "outputId": "642aa0b8-e4f0-48e9-ec58-8b2923b9b375",
        "colab": {
          "base_uri": "https://localhost:8080/",
          "height": 34
        }
      },
      "source": [
        "x = -9\n",
        "if type(x)==int:\n",
        "  if x >= 0:\n",
        "    print(\"x es un natural\")\n",
        "  elif x > -10:\n",
        "    print(\"x es un entero negativo pequeño\")\n",
        "  else :\n",
        "    print(\"x es un entero negativo grande\")\n",
        "else: \n",
        "  print(\"x no es un entero\")"
      ],
      "execution_count": 0,
      "outputs": [
        {
          "output_type": "stream",
          "text": [
            "x es un entero negativo pequeño\n"
          ],
          "name": "stdout"
        }
      ]
    },
    {
      "cell_type": "markdown",
      "metadata": {
        "id": "rl6K6cRECuQT",
        "colab_type": "text"
      },
      "source": [
        "##Condiciones y Resticciones:\n",
        "Usted puede hacer tantos if como condiciones necesite. Bien sea anidados o no anidados\n"
      ]
    },
    {
      "cell_type": "code",
      "metadata": {
        "id": "Xi-vXgpCJFpj",
        "colab_type": "code",
        "outputId": "2342c9cd-6402-4f31-f3d5-1d7bfaaba4f0",
        "colab": {
          "base_uri": "https://localhost:8080/",
          "height": 50
        }
      },
      "source": [
        "x = 1000\n",
        "if type(x)==int:\n",
        "  if x == 1000:\n",
        "    print(\"x es 1000\")\n",
        "  if x > 0:\n",
        "    print(\"x es un natural\")\n",
        "  elif x > -10:\n",
        "    print(\"x es un entero negativo pequeño\")\n",
        "  else :\n",
        "    print(\"x es un entero negativo grande\")\n",
        "else: \n",
        "  print(\"x no es un entero\")"
      ],
      "execution_count": 0,
      "outputs": [
        {
          "output_type": "stream",
          "text": [
            "x es 1000\n",
            "x es un natural\n"
          ],
          "name": "stdout"
        }
      ]
    },
    {
      "cell_type": "markdown",
      "metadata": {
        "id": "XIXpepM-iq5u",
        "colab_type": "text"
      },
      "source": [
        "###Ejercicio 1.\n",
        "Escriba un código que me permita conocer todos los divisores menores que 10 de un número entero mayor que 10."
      ]
    },
    {
      "cell_type": "code",
      "metadata": {
        "id": "QKB2ttcxJdo9",
        "colab_type": "code",
        "colab": {}
      },
      "source": [
        ""
      ],
      "execution_count": 0,
      "outputs": []
    },
    {
      "cell_type": "markdown",
      "metadata": {
        "id": "gZlYtr_vDcll",
        "colab_type": "text"
      },
      "source": [
        "Para ver la solución al ejercicio haga doble click **aquí**\n",
        "<!----\n",
        "n = 12\n",
        "l = []\n",
        "divisor = 2\n",
        "if n <= 10 or type(n) != int:\n",
        "  print (str(n) +\" no es válido\")\n",
        "else:\n",
        "  if type(n)== int:\n",
        "    if n%divisor == 0:\n",
        "      l.append(divisor)\n",
        "    divisor += 1\n",
        "    if n%divisor == 0 :\n",
        "      l.append(divisor)\n",
        "    divisor += 1\n",
        "    if n%divisor == 0 :\n",
        "      l.append(divisor)\n",
        "    divisor += 1\n",
        "    if n%divisor == 0 :\n",
        "      l.append(divisor)\n",
        "    divisor += 1\n",
        "    if n%divisor == 0 :\n",
        "      l.append(divisor)\n",
        "    divisor += 1\n",
        "    if n%divisor == 0:\n",
        "      l.append(divisor)\n",
        "    divisor += 1\n",
        "    if n%divisor == 0:\n",
        "      l.append(divisor)\n",
        "    divisor += 1\n",
        "    if n%divisor == 0:\n",
        "      l.append(divisor)\n",
        "    divisor += 1\n",
        "    if n%divisor == 0:\n",
        "      l.append(divisor)\n",
        "    print(l, \"son los divisores de \"+str(n))\n",
        "  else:\n",
        "    print(n, \" no es natural\")\n",
        "---->"
      ]
    },
    {
      "cell_type": "markdown",
      "metadata": {
        "id": "RRFu2PIuAMly",
        "colab_type": "text"
      },
      "source": [
        "Ejercicio 2.\n",
        "\n",
        "Jugaremos adivina quién. A continuación se le dará una serie de personas con una lista de características físicas para cada una. Dichas características serán:\n",
        "```\n",
        "Características = [altura,Color de piel,Color de ojos]\n",
        "```\n",
        "Intente crear un código en conjunto con un compañero para elegir un personaje y jugar adivina quién con él o ella."
      ]
    },
    {
      "cell_type": "code",
      "metadata": {
        "id": "ZbrfntFLDter",
        "colab_type": "code",
        "colab": {}
      },
      "source": [
        "Jesus = [\"alta\", \"caucásica\",\"verdes\"]\n",
        "María = [\"alta\", \"trigueña\",\"marrones\"]\n",
        "José = [\"baja\", \"caucásica\",\"marrones\"]\n",
        "\n",
        "\n",
        "\n",
        "Personas = [Jesus,María,José]\n",
        "\n",
        "\n",
        "\n",
        "x= Jesus"
      ],
      "execution_count": 0,
      "outputs": []
    },
    {
      "cell_type": "code",
      "metadata": {
        "id": "a8167hsvM4jS",
        "colab_type": "code",
        "colab": {}
      },
      "source": [
        ""
      ],
      "execution_count": 0,
      "outputs": []
    },
    {
      "cell_type": "markdown",
      "metadata": {
        "id": "BtWuyzOGD0M9",
        "colab_type": "text"
      },
      "source": [
        "Para ver la solución al ejercicio haga doble click **aquí**\n",
        "\n",
        "<!---\n",
        "i= 0\n",
        "j= 0\n",
        "y=[]\n",
        "lsol=[]\n",
        "\n",
        "if x[0]==\"alta\":                      #Consultamos si el personaje es alto\n",
        "  print(\"mi personaje es alto\")\n",
        "  y.append(\"alta\")                    #Si se Cumple la condición guardamos ese dato en la lista de características de la solución\n",
        "else:\n",
        "  #print(\"mi personaje no es alta\")   \n",
        "  if x[0]==\"baja\":                            #Preguntamos si el personaje es bajo\n",
        "    print(\"mi personaje es de estatura baja\")\n",
        "    y.append(\"baja\")                            #Si se Cumple la condición guardamos ese dato en la lista de características de la solución\n",
        "Ptest = Personas[i]                               #Se hace una nueva lista con la primera entrada de las personas\n",
        "\n",
        "if Ptest[0]==y[0]:                                #Se compara las características de esta nueva lista con la característica solución hallada\n",
        "  lsol.append(Personas[i])                        #Se guarda en una última lista de personas que cumplan con esa característica\n",
        "i += 1\n",
        "Ptest = Personas[i]                               #Se hace una nueva lista con la segunda entrada de las personas\n",
        "if Ptest[0]==y[0]:                                #Se compara las características de esta nueva lista con la característica solución hallada\n",
        "  lsol.append(Personas[i])                        #Se guarda en una última lista de personas que cumplan con esa característica\n",
        "i +=1 \n",
        "Ptest = Personas[i]                               #Se hace una nueva lista con la tercera entrada de las personas\n",
        "if Ptest[0]==y[0]:                                #Se compara las características de esta nueva lista con la característica solución hallada\n",
        "  lsol.append(Personas[i])                        #Se guarda en una última lista de personas que cumplan con esa característica\n",
        "\n",
        "if x[1]==\"caucásica\":\n",
        "  print(\"mi personaje es caucásico\")             \n",
        "  y.append(\"caucásica\")\n",
        "else:\n",
        "  if x[1]==\"trigueña\":\n",
        "    print(\"mi personaje es trigueña\")\n",
        "    y.append(\"trigueña\")\n",
        "\n",
        "\n",
        "Ptest= lsol[0]\n",
        "if (y[0] == Ptest[0] and y[1] == Ptest[1]):       #Si la primera y segunda entradas de las características descubiertas son las mimas de la primera persona en la lista de posibles personas, entonces iguale las 2 listas\n",
        "  y.append(Ptest[2])\n",
        "\n",
        "if len(lsol) > 1:\n",
        "  Ptest= lsol[1]\n",
        "  if (y[0] == Ptest[0] and y[1] == Ptest[1]):     #Si la primera y segunda entradas de las características descubiertas son las mimas de la segunda persona en la lista de posibles personas, entonces iguale las 2 listas\n",
        "    y.append(Ptest[2])\n",
        "#print(y)\n",
        "if y == Personas[0]:\n",
        "  print(\"el personaje es Jesus\")\n",
        "if y == Personas[1]:\n",
        "  print(\"el personaje es María\")\n",
        "if y == Personas[2]:\n",
        "  print(\"el personaje es José\")\n",
        "\n",
        "\n",
        "\n",
        "\n",
        "\n",
        "#or you could try\n",
        "x = José\n",
        "if x[0] == \"baja\":\n",
        "  print(\"su personaje es José\")\n",
        "elif x[1] == \"trigueña\":\n",
        "  print(\"su personaje es María\")\n",
        "elif x[2] == \"verdes\":\n",
        "  print(\"su personaje es Jesus\")\n",
        "--->\n",
        "\n",
        "\n",
        "\n"
      ]
    },
    {
      "cell_type": "markdown",
      "metadata": {
        "id": "FYF5C3nyoGnK",
        "colab_type": "text"
      },
      "source": [
        "#Loops\n",
        "Hemos visto que un condicional es una desición sobre una sentencia. Ahora nos ocuparemos de los ciclos. Podríamos pensar que un loop o ciclo es un bloque que corre mientras se cumpla una condición. Veámoslo uno a uno con los tipos de ciclos."
      ]
    },
    {
      "cell_type": "markdown",
      "metadata": {
        "id": "-BpR-L9Rs9-7",
        "colab_type": "text"
      },
      "source": [
        "##For\n",
        "El ciclo for es digamos el más usual de todos. Su uso es fácil, se llama una variable y se itera en un bloque de código mientras se cumpla dicha condición sumándole cada vez un valor llamado `step`. Es válido notar que el bloque no debe depender de dicha variable o contador.\n",
        "La sintaxis en Python es la siguiente\n",
        "\n",
        "```\n",
        "for contador in range (inicio, fin, step):\n",
        "  bloque_a_correr_en_el_Loop\n",
        "```\n"
      ]
    },
    {
      "cell_type": "code",
      "metadata": {
        "id": "gHiCqRUJnRV4",
        "colab_type": "code",
        "outputId": "6e7a0a45-2fc1-414a-94cb-cb7f5f502f89",
        "colab": {
          "base_uri": "https://localhost:8080/",
          "height": 34
        }
      },
      "source": [
        "suma= 0\n",
        "for i in range (0,10,2):\n",
        "  suma = suma+i\n",
        "print(suma-(0+2+4+6+8))"
      ],
      "execution_count": 0,
      "outputs": [
        {
          "output_type": "stream",
          "text": [
            "0\n"
          ],
          "name": "stdout"
        }
      ]
    },
    {
      "cell_type": "code",
      "metadata": {
        "id": "dkJ8jLAN1sz0",
        "colab_type": "code",
        "outputId": "d2865ba5-64ff-426b-95bd-12e5d61d6835",
        "colab": {
          "base_uri": "https://localhost:8080/",
          "height": 187
        }
      },
      "source": [
        "for n in range(0,10):\n",
        "  print(\"hola\"+str(n))"
      ],
      "execution_count": 0,
      "outputs": [
        {
          "output_type": "stream",
          "text": [
            "hola0\n",
            "hola1\n",
            "hola2\n",
            "hola3\n",
            "hola4\n",
            "hola5\n",
            "hola6\n",
            "hola7\n",
            "hola8\n",
            "hola9\n"
          ],
          "name": "stdout"
        }
      ]
    },
    {
      "cell_type": "markdown",
      "metadata": {
        "id": "hM9kAHwu35Bu",
        "colab_type": "text"
      },
      "source": [
        "##Break\n",
        "El comando `break` sirve para cortar un ciclo. y se ponde dentro de un condicional, que a su vez va en un ciclo. Veamos:"
      ]
    },
    {
      "cell_type": "code",
      "metadata": {
        "id": "9Xu7P7Sk7uuC",
        "colab_type": "code",
        "outputId": "ee938b46-9703-4a7a-cee0-ab51160d0355",
        "colab": {
          "base_uri": "https://localhost:8080/",
          "height": 118
        }
      },
      "source": [
        "for i in range (0,1000):\n",
        "  print( i**2)\n",
        "  if i == 5: \n",
        "    break"
      ],
      "execution_count": 0,
      "outputs": [
        {
          "output_type": "stream",
          "text": [
            "0\n",
            "1\n",
            "4\n",
            "9\n",
            "16\n",
            "25\n"
          ],
          "name": "stdout"
        }
      ]
    },
    {
      "cell_type": "markdown",
      "metadata": {
        "id": "6l51oqWJ8o9F",
        "colab_type": "text"
      },
      "source": [
        "##Continue\n",
        "El comando `continue` tiene un funcionamiento similar a el comando `break`. Funciona dentro de un condicional dentro de un ciclo. Dado que se cumpla la condición, entonces evitará el bloque dentro de ese loop. Veamos un ejemplo."
      ]
    },
    {
      "cell_type": "code",
      "metadata": {
        "id": "vF8RQwlV-Rlk",
        "colab_type": "code",
        "outputId": "339c1f45-aee5-40a6-a310-fa58546827af",
        "colab": {
          "base_uri": "https://localhost:8080/",
          "height": 170
        }
      },
      "source": [
        "for i in range (0,10):\n",
        "  if i == 5: \n",
        "    continue\n",
        "  print( i**2)\n",
        "  "
      ],
      "execution_count": 0,
      "outputs": [
        {
          "output_type": "stream",
          "text": [
            "0\n",
            "1\n",
            "4\n",
            "9\n",
            "16\n",
            "36\n",
            "49\n",
            "64\n",
            "81\n"
          ],
          "name": "stdout"
        }
      ]
    },
    {
      "cell_type": "markdown",
      "metadata": {
        "id": "odfPouX1-4Sm",
        "colab_type": "text"
      },
      "source": [
        "##While\n",
        "El ciclo while funciona con una condición, este ejecuta un bloque de código siempre y cuando la condición dada sea verdadera. En cuanto dicha condición se hace falsa, entonces el ciclo cesa. \n",
        "\n",
        "Veamos un ejemplo:"
      ]
    },
    {
      "cell_type": "code",
      "metadata": {
        "id": "PPdoaN8deDUA",
        "colab_type": "code",
        "outputId": "2c2f15f8-2acc-4200-86f8-c92701334d1c",
        "colab": {
          "base_uri": "https://localhost:8080/",
          "height": 101
        }
      },
      "source": [
        "x = 0\n",
        "while x < 100:\n",
        "  x =x**2+1\n",
        "  print(x)"
      ],
      "execution_count": 0,
      "outputs": [
        {
          "output_type": "stream",
          "text": [
            "1\n",
            "2\n",
            "5\n",
            "26\n",
            "677\n"
          ],
          "name": "stdout"
        }
      ]
    },
    {
      "cell_type": "markdown",
      "metadata": {
        "id": "W_XPpzV2j-t9",
        "colab_type": "text"
      },
      "source": [
        "##Pass\n",
        "El comando `pass` puede parecer inútil, en sí lo que indica es una operación nula, o sea que no pasa nada cuando se ejecuta, pero en realidad se utiliza cuando se requiere por sintaxis una declaración pero no se quiere ejecutar ningún comando o código. También se utiliza en lugares donde donde el código irá finalmente, pero no ha sido escrita todavía (utilizándolo como un relleno temporal, hasta que se escriba el código final)."
      ]
    },
    {
      "cell_type": "code",
      "metadata": {
        "id": "CdbBxNWKhkyy",
        "colab_type": "code",
        "outputId": "55fac904-e753-4c57-85ec-8a0e6d20b0d2",
        "colab": {
          "base_uri": "https://localhost:8080/",
          "height": 202
        }
      },
      "source": [
        "for i in range (0,10):\n",
        "  if i == 5: \n",
        "    pass\n",
        "    print('This is pass block')\n",
        "  print( i**2)"
      ],
      "execution_count": 0,
      "outputs": [
        {
          "output_type": "stream",
          "text": [
            "0\n",
            "1\n",
            "4\n",
            "9\n",
            "16\n",
            "This is pass block\n",
            "25\n",
            "36\n",
            "49\n",
            "64\n",
            "81\n"
          ],
          "name": "stdout"
        }
      ]
    },
    {
      "cell_type": "markdown",
      "metadata": {
        "id": "3qDsCmqbEjYn",
        "colab_type": "text"
      },
      "source": [
        "##Ejercicios \n",
        "Si enumeramos todos los números naturales por debajo de 10 que son múltiplos de 3 o 5, obtenemos 3, 5, 6 y 9. La suma de estos múltiplos es 23.\n",
        "\n",
        "Encuentra la suma de todos los múltiplos de 3 o 5 por debajo de 1000."
      ]
    },
    {
      "cell_type": "code",
      "metadata": {
        "id": "SZTdycQCojh5",
        "colab_type": "code",
        "colab": {}
      },
      "source": [
        ""
      ],
      "execution_count": 0,
      "outputs": []
    },
    {
      "cell_type": "markdown",
      "metadata": {
        "id": "XfZ9mO1rEpHU",
        "colab_type": "text"
      },
      "source": [
        "Para ver la solución al ejercicio haga doble click **aquí**\n",
        "<!---\n",
        "listaDivs=[]\n",
        "test3= 0\n",
        "test5= 0\n",
        "suma = 0\n",
        "for i in range(3, 1000):\n",
        "  test3 = i % 3\n",
        "  test5 = i % 5\n",
        "  if (test3 == 0 or test5 == 0):\n",
        "    listaDivs.append(i)\n",
        "    suma = suma+i\n",
        "suma\n",
        "--->"
      ]
    },
    {
      "cell_type": "markdown",
      "metadata": {
        "id": "2iD7GfLhExVN",
        "colab_type": "text"
      },
      "source": [
        "#Funciones\n",
        "Usualmente en el desarrollo de un código debemos usar varias veces el mismo algoritmo, no necesariamente de forma periódica. Es fácil pensar que si quiero calcular un valor estadístico que no esté predefinido por algo el lenguaje de programación, tendremos que ir haciendo `Ctrl+C` y luego `Ctrl+V` como locos por todo nuestro código. Para evitar esto existen las funciones. Con ellas es posible desarrollar de forma ordenada el código y por consiguiente más entendible.\n",
        "\n",
        "La sintaxis de una función es la siguiente:\n",
        "\n",
        "```\n",
        "def Function(arg1,arg2,...argn):\n",
        "  bloque_de_texto\n",
        "  return el_valor_que_retorna_la_función\n",
        "```\n",
        "En general es necesario el uso de `return` al final de cada función. De esa forma la función sabe exactamente qué debe devolver. \n",
        "\n",
        "Veamosun ejemplo.\n",
        "\n"
      ]
    },
    {
      "cell_type": "code",
      "metadata": {
        "id": "YLaTRLakOm9I",
        "colab_type": "code",
        "outputId": "cc9e3f82-6e17-48b6-829b-2d20641b3b76",
        "colab": {
          "base_uri": "https://localhost:8080/",
          "height": 34
        }
      },
      "source": [
        "def PrimeraFunc():\n",
        "  return print(\"Hola Mundo\")\n",
        "\n",
        "PrimeraFunc()"
      ],
      "execution_count": 0,
      "outputs": [
        {
          "output_type": "stream",
          "text": [
            "Hola Mundo\n"
          ],
          "name": "stdout"
        }
      ]
    },
    {
      "cell_type": "markdown",
      "metadata": {
        "id": "JIdYMTFcOoXy",
        "colab_type": "text"
      },
      "source": [
        "Es importante anotar que todas las variables que estén dentro de una función quedan instanciadas allí, por lo que no podremos verlas a menos que dicha variable sea, veamos un ejemplo.\n"
      ]
    },
    {
      "cell_type": "code",
      "metadata": {
        "id": "VRBd-1ESPJ_n",
        "colab_type": "code",
        "colab": {}
      },
      "source": [
        "def SolCuadrática(a,b,c):\n",
        "  disc = b**2-4*a*c\n",
        "  x1 = (-b+disc**0.5)/2*a\n",
        "  x2 = (-b-disc**0.5)/2*a\n",
        "  return (x1,x2)"
      ],
      "execution_count": 0,
      "outputs": []
    },
    {
      "cell_type": "code",
      "metadata": {
        "id": "Mc2grjbKP1tP",
        "colab_type": "code",
        "outputId": "6bd2841c-df00-4770-dc72-ab5e441036ac",
        "colab": {
          "base_uri": "https://localhost:8080/",
          "height": 34
        }
      },
      "source": [
        "SolCuadrática(-5,2,3)"
      ],
      "execution_count": 0,
      "outputs": [
        {
          "output_type": "execute_result",
          "data": {
            "text/plain": [
              "(-15.0, 25.0)"
            ]
          },
          "metadata": {
            "tags": []
          },
          "execution_count": 9
        }
      ]
    },
    {
      "cell_type": "code",
      "metadata": {
        "id": "JYyQeeP_P8FO",
        "colab_type": "code",
        "outputId": "db5ec9d4-8e48-4907-f75d-0758c088a963",
        "colab": {
          "base_uri": "https://localhost:8080/",
          "height": 163
        }
      },
      "source": [
        "disc"
      ],
      "execution_count": 0,
      "outputs": [
        {
          "output_type": "error",
          "ename": "NameError",
          "evalue": "ignored",
          "traceback": [
            "\u001b[0;31m---------------------------------------------------------------------------\u001b[0m",
            "\u001b[0;31mNameError\u001b[0m                                 Traceback (most recent call last)",
            "\u001b[0;32m<ipython-input-10-01e78420a6b9>\u001b[0m in \u001b[0;36m<module>\u001b[0;34m()\u001b[0m\n\u001b[0;32m----> 1\u001b[0;31m \u001b[0mdisc\u001b[0m\u001b[0;34m\u001b[0m\u001b[0;34m\u001b[0m\u001b[0m\n\u001b[0m",
            "\u001b[0;31mNameError\u001b[0m: name 'disc' is not defined"
          ]
        }
      ]
    },
    {
      "cell_type": "markdown",
      "metadata": {
        "id": "sNnhxl3uS7tC",
        "colab_type": "text"
      },
      "source": [
        "Cree una función que acepte un parámetro de entrada y me devuelva el tercer elemento de ese parámetro si este es una lista, sino, me devuelva un string que diga \"Su Parámetro no es válido\""
      ]
    },
    {
      "cell_type": "code",
      "metadata": {
        "id": "r5guFmRIP-jv",
        "colab_type": "code",
        "colab": {}
      },
      "source": [
        "def TercerElemento(l):\n",
        "  if (type(l) == list and len(l)>=3):\n",
        "    return(l[2])\n",
        "  else:\n",
        "    return(\"Su parámetro no es una lista\")"
      ],
      "execution_count": 0,
      "outputs": []
    },
    {
      "cell_type": "code",
      "metadata": {
        "id": "NwscCVTvUpVF",
        "colab_type": "code",
        "outputId": "cd3a1423-d78c-40b1-fe39-220a06b632cb",
        "colab": {
          "base_uri": "https://localhost:8080/",
          "height": 34
        }
      },
      "source": [
        "li= [i for i in range(5)]\n",
        "TercerElemento(li)"
      ],
      "execution_count": 0,
      "outputs": [
        {
          "output_type": "execute_result",
          "data": {
            "text/plain": [
              "2"
            ]
          },
          "metadata": {
            "tags": []
          },
          "execution_count": 14
        }
      ]
    },
    {
      "cell_type": "markdown",
      "metadata": {
        "id": "nQVYj5skFdJH",
        "colab_type": "text"
      },
      "source": [
        "##Recurrencia\n",
        "Es posible definir una función en términos de sí misma por raro que suene, esto es bastante útil a la hora de desarrollar códigos veamos por ejemplo el factorial de un número.\n",
        "\n"
      ]
    },
    {
      "cell_type": "code",
      "metadata": {
        "id": "6egbgRfSVAdD",
        "colab_type": "code",
        "colab": {}
      },
      "source": [
        "def Factorial(n):\n",
        "  if type(n) != int or n < 0 :\n",
        "    return(\"Valor no válido\")\n",
        "  if n == 0:\n",
        "    return 1\n",
        "  if n == 1:\n",
        "    return 1\n",
        "  else:\n",
        "    return n*Factorial(n-1) "
      ],
      "execution_count": 0,
      "outputs": []
    },
    {
      "cell_type": "code",
      "metadata": {
        "id": "ii7OxDJWG11p",
        "colab_type": "code",
        "outputId": "49ef41ad-eb64-435e-f04b-c36ca6ae4f0a",
        "colab": {
          "base_uri": "https://localhost:8080/",
          "height": 34
        }
      },
      "source": [
        "Factorial(5)"
      ],
      "execution_count": 0,
      "outputs": [
        {
          "output_type": "execute_result",
          "data": {
            "text/plain": [
              "120"
            ]
          },
          "metadata": {
            "tags": []
          },
          "execution_count": 6
        }
      ]
    },
    {
      "cell_type": "markdown",
      "metadata": {
        "id": "p1PpLQCbHakg",
        "colab_type": "text"
      },
      "source": [
        "Cada nuevo término en la secuencia de Fibonacci se genera agregando los dos términos anteriores. Al comenzar con 1 y 2, los primeros 10 términos serán:\n",
        "\n",
        "1, 2, 3, 5, 8, 13, 21, 34, 55, 89, ...\n",
        "\n",
        "Al considerar los términos en la secuencia de Fibonacci cuyos valores no exceden los cuatro millones, encuentre la suma de los términos de valor par.\n",
        "\n",
        "(Hint: Intente crear una función que sea recursiva para los números de Fibonacci)"
      ]
    },
    {
      "cell_type": "code",
      "metadata": {
        "id": "X6_ZPZW4G-nH",
        "colab_type": "code",
        "colab": {}
      },
      "source": [
        ""
      ],
      "execution_count": 0,
      "outputs": []
    },
    {
      "cell_type": "markdown",
      "metadata": {
        "id": "yQbjV5YPHiqt",
        "colab_type": "text"
      },
      "source": [
        "Para ver la solución al ejercicio haga doble click **aquí**\n",
        "<!---\n",
        "def Fibonacci(n): \n",
        "    if n<0 or type(n) != int: \n",
        "        print(\"Entrada Inválida\")  \n",
        "    elif n==1: \n",
        "        return 0\n",
        "    # Second Fibonacci number is 1 \n",
        "    elif n==2: \n",
        "        return 1\n",
        "    else: \n",
        "        return Fibonacci(n-1)+Fibonacci(n-2)\n",
        "\n",
        "l = []\n",
        "n = 1\n",
        "fibo = 0\n",
        "top = 4000000\n",
        "suma = 0\n",
        "while fibo <top:\n",
        "  fibo = Fibonacci(n)\n",
        "  if fibo < top:\n",
        "    l.append(fibo)\n",
        "    n = n+1\n",
        "\n",
        "for i in l:\n",
        "  if i%2 ==0:\n",
        "    suma = suma+i\n",
        "print(suma)\n",
        "--->"
      ]
    }
  ]
}