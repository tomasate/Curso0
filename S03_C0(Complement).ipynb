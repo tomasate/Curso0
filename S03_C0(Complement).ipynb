{
  "nbformat": 4,
  "nbformat_minor": 0,
  "metadata": {
    "colab": {
      "name": "S03_C0(Complement).ipynb",
      "provenance": [],
      "collapsed_sections": []
    },
    "kernelspec": {
      "name": "python3",
      "display_name": "Python 3"
    }
  },
  "cells": [
    {
      "cell_type": "markdown",
      "metadata": {
        "id": "vpyD39qpD_eh",
        "colab_type": "text"
      },
      "source": [
        "<p><img alt=\"Colaboratory logo\" height=\"140px\" src=\"https://upload.wikimedia.org/wikipedia/commons/archive/f/fb/20161010213812%21Escudo-UdeA.svg\" align=\"left\" hspace=\"10px\" vspace=\"0px\"></p>\n",
        "\n",
        "# **Curso de bases para AI - Universidad de Antioquia**\n",
        "\n",
        "\n",
        "El presente curso hace parte del centro de Big Data de la facultad de ciencias exactas y naturales (FCEN) de la Universidad de Antioquia.\n",
        "\n",
        "\\\n",
        "\n",
        "El curso será dictado en 16 sesiones o clases de 4 horas los días sábado en las instalaciones de la universidad. Para un total de dededicación temporal de 64 horas. El curso cuenta con los siguientes módulos:\n",
        "\n",
        "1. Bases matemáticas y de programación. (10H)\n",
        "2. Bases de Python. (19H)\n",
        "3. Bases de R. (13H)\n",
        "4. Procesamiento de datos. (22H)"
      ]
    },
    {
      "cell_type": "markdown",
      "metadata": {
        "id": "KpL9PdlPXbAR",
        "colab_type": "text"
      },
      "source": [
        "## Ejercicios con operadores\n",
        "\n",
        "### Ejercicio 1\n",
        "\n",
        "¿Qué resultados se obtendrán al evaluar las siguientes expresiones Python?\n",
        "\n",
        "* $2 + 3 + 1 + 2$\n",
        "* $(2 + 3) * 1 + 2$\n",
        "* $2 + 3 * 1 + 2$\n",
        "* $(2 + 3) * (1 + 2)$\n",
        "* $2 + (3 * (6/2))$\n",
        "* $\\dfrac{4+6}{2+3}$\n",
        "* $(4/2)^5$\n",
        "* $(4/2)^{5+1}$\n",
        "* $(-3)^2$\n",
        "* $-(3)^2$\n",
        "* $1/2/4$\n",
        "* $4**.5$\n",
        "* $4.0 ** (1.0/2) + 1/2.0$\n",
        "* $3/2 + 1$\n",
        "\n",
        "### Ejercicio 2\n",
        "Utilizando operadores determinar si un número es par o impar. \n",
        "\n",
        "### Ejercicio 3\n",
        "\n",
        "Las raíces de un polinomio de grado 2, de la forma $ax^2+bx+c$, son 2 números\n",
        "que pueden ser reales o complejos. Utilizando operadores determine si las raíces son reales o complejas para distintos valores de a, b y c.\n",
        "\n",
        "### Ejercicio 4 \n",
        "\n",
        "Los articulos en español son `['el','un','los','unos','la','una','las','unas']`. En el siguiente texto elimine los artículos. \n"
      ]
    },
    {
      "cell_type": "code",
      "metadata": {
        "id": "twIzHjEtmltD",
        "colab_type": "code",
        "outputId": "5ce9f1ef-1129-4136-fecc-bb30d0003d39",
        "colab": {
          "base_uri": "https://localhost:8080/",
          "height": 50
        }
      },
      "source": [
        "number = 5\n",
        "entero = number%1 ==0\n",
        "par = number%2 == 0\n",
        "var1 = entero & par\n",
        "print(\"Es par?\",var1,\"\\nEs entero?\", entero)"
      ],
      "execution_count": 0,
      "outputs": [
        {
          "output_type": "stream",
          "text": [
            "Es par? False \n",
            "Es entero? True\n"
          ],
          "name": "stdout"
        }
      ]
    },
    {
      "cell_type": "code",
      "metadata": {
        "id": "7mUT2ks52bbH",
        "colab_type": "code",
        "outputId": "90e563b2-7995-40b6-bf7b-796428afd83d",
        "colab": {
          "base_uri": "https://localhost:8080/",
          "height": 34
        }
      },
      "source": [
        "a = 2\n",
        "b = 5\n",
        "c = 3\n",
        "disc = b**2-4*a*c\n",
        "var1 = disc>=0\n",
        "print(\"las raices son reales?\", var1,disc)"
      ],
      "execution_count": 0,
      "outputs": [
        {
          "output_type": "stream",
          "text": [
            "las raices son reales? True 1\n"
          ],
          "name": "stdout"
        }
      ]
    },
    {
      "cell_type": "code",
      "metadata": {
        "id": "xLAMExozefhq",
        "colab_type": "code",
        "outputId": "b6877d6f-58f0-44f2-9b1a-48db028caa86",
        "colab": {
          "base_uri": "https://localhost:8080/",
          "height": 146
        }
      },
      "source": [
        "import numpy as np\n",
        "texto = '''La Inteligencia artificial es el campo científico de la informática que se centra en la creación de programas y mecanismos \n",
        "que pueden mostrar comportamientos considerados inteligentes.\n",
        "En otras palabras, la IA es el concepto según el cual las máquinas piensan como seres humanos'''\n",
        "clean_texto = np.array([t.lower() for t in texto.replace('\\n',' ').split(' ')])\n",
        "\n",
        "#cond = (clean_texto != \"el\") & (clean_texto != \"un\")\n",
        "clean_texto[(clean_texto != \"el\") & (clean_texto != \"un\")]"
      ],
      "execution_count": 0,
      "outputs": [
        {
          "output_type": "execute_result",
          "data": {
            "text/plain": [
              "array(['la', 'inteligencia', 'artificial', 'es', 'campo', 'científico',\n",
              "       'de', 'la', 'informática', 'que', 'se', 'centra', 'en', 'la',\n",
              "       'creación', 'de', 'programas', 'y', 'mecanismos', '', 'que',\n",
              "       'pueden', 'mostrar', 'comportamientos', 'considerados',\n",
              "       'inteligentes.', 'en', 'otras', 'palabras,', 'la', 'ia', 'es',\n",
              "       'concepto', 'según', 'cual', 'las', 'máquinas', 'piensan', 'como',\n",
              "       'seres', 'humanos'], dtype='<U15')"
            ]
          },
          "metadata": {
            "tags": []
          },
          "execution_count": 13
        }
      ]
    },
    {
      "cell_type": "code",
      "metadata": {
        "id": "wWBCGiIFqYwU",
        "colab_type": "code",
        "outputId": "5ceb8c97-0627-46d9-c293-a928727e49b4",
        "colab": {
          "base_uri": "https://localhost:8080/",
          "height": 84
        }
      },
      "source": [
        "cadena = 'puede modificar esta cadena'\n",
        "### Imprima la cadena aplicando los métodos anteriores\n",
        "sentence1 = cadena.index('car',0,15) #Busca 'car' en cadena entre las posiciones 0 y 16 y me dice dónde empieza\n",
        "print(sentence)\n",
        "sentence2 = cadena.rfind('n') #devuelve la posición del caracter 'n' que más esté a la derecha\n",
        "print(sentence2)\n",
        "sentence3 = cadena.rindex('n') #hace lo mismo que rfind\n",
        "print(sentence3)\n",
        "cadena.startswith('pu', 0, 12) #me permite saber si empieza  con cierta subcadena"
      ],
      "execution_count": 0,
      "outputs": [
        {
          "output_type": "stream",
          "text": [
            "12\n",
            "25\n",
            "25\n"
          ],
          "name": "stdout"
        },
        {
          "output_type": "execute_result",
          "data": {
            "text/plain": [
              "True"
            ]
          },
          "metadata": {
            "tags": []
          },
          "execution_count": 41
        }
      ]
    },
    {
      "cell_type": "markdown",
      "metadata": {
        "id": "l-WreggOshhb",
        "colab_type": "text"
      },
      "source": [
        "## Ejercicios\n",
        "\n",
        "### Ejercicio 1 \n",
        "\n",
        "Usando la función `input('Ingrese un caráter: ')`, ingrese un carácter cualquier dede su teclado. Siempre que sea sólo un caráter y determine si es una letra, mayúscula, minúscula, digito, espacio u otro. \n",
        "\n",
        "### Ejercicio 2\n",
        "\n",
        "Se ha obtenido la siguiente cadena corrupta `cadena = \"zeréP nauJ,01\"` y deseamos transformala a `(Nombre) (Apellido) ha sacado un (Nota) de nota`\n",
        "\n",
        "### Ejercicio 3\n",
        "\n",
        "El nickname de un usuario debe contener mínimo 6 caracteres y un máximo de 12, el nombre debe tener sólo letras y ninguna mayúscula. En una celda de código, verifique (asumiendo varios casos) si un nickname es válido o no. \n",
        "\n",
        "### Ejercicio 4\n",
        "\n",
        "La contraseña no puede ser menor a 8, debe tener letras, digitos y carácteres sin espacios. En una celda de código, verifique (asumiendo varios casos) si una contraseña es válida o no. \n",
        "\n",
        "\n",
        "\n",
        "\n",
        "\n",
        "\n"
      ]
    },
    {
      "cell_type": "code",
      "metadata": {
        "id": "rqlR0ZT67rpb",
        "colab_type": "code",
        "outputId": "59e21940-0f84-4168-b0de-4f970e0c5706",
        "colab": {
          "base_uri": "https://localhost:8080/",
          "height": 84
        }
      },
      "source": [
        "num= input(\"Ingrese un caracter\")\n",
        "posib1 = num.isalnum()\n",
        "posib2 = num.isalpha()\n",
        "posib3 = num.isdigit()\n",
        "print(\"Es alfanumérico? \", posib1, \" \\nEs alfabético?\", posib2, \"\\nEs un número?\", posib3)"
      ],
      "execution_count": 0,
      "outputs": [
        {
          "output_type": "stream",
          "text": [
            "Ingrese un caracterhola mundo\n",
            "Es alfanumérico?  False  \n",
            "Es alfabético? False \n",
            "Es un número? False\n"
          ],
          "name": "stdout"
        }
      ]
    },
    {
      "cell_type": "code",
      "metadata": {
        "id": "odpvnl9Pt7F2",
        "colab_type": "code",
        "outputId": "d9b010b4-a9c8-4d25-b378-84e88af92263",
        "colab": {
          "base_uri": "https://localhost:8080/",
          "height": 34
        }
      },
      "source": [
        "cad_sol = \"zeréP nauJ,01\"\n",
        "cad_sol_mod = cad_sol.replace(\" \",\",\")[::-1].split(\",\")\n",
        "#cad_sol_mod\n",
        "print(\"%s %s ha sacado un %s de nota\"%(cad_sol_mod[1],cad_sol_mod[2],cad_sol_mod[0]))"
      ],
      "execution_count": 0,
      "outputs": [
        {
          "output_type": "stream",
          "text": [
            "Juan Pérez ha sacado un 10 de nota\n"
          ],
          "name": "stdout"
        }
      ]
    },
    {
      "cell_type": "code",
      "metadata": {
        "id": "pv5gRoevxKyO",
        "colab_type": "code",
        "outputId": "5f55871e-f453-4431-c17e-589bf3f8819e",
        "colab": {
          "base_uri": "https://localhost:8080/",
          "height": 50
        }
      },
      "source": [
        "user = input(\"Ingrese su nombre de usuario: \")\n",
        "valido = user.isalpha() and (6 <= len(user)) and (len(user) <=12)\n",
        "print(\"Es válido el nombre de usuario?\", valido)"
      ],
      "execution_count": 0,
      "outputs": [
        {
          "output_type": "stream",
          "text": [
            "Ingrese su nombre de usuario: toatga\n",
            "Es válido el nombre de usuario? True\n"
          ],
          "name": "stdout"
        }
      ]
    },
    {
      "cell_type": "markdown",
      "metadata": {
        "id": "HDNOU-IcbyQB",
        "colab_type": "text"
      },
      "source": [
        "# Python: Listas"
      ]
    },
    {
      "cell_type": "markdown",
      "metadata": {
        "id": "fE6-kF3ZeUCG",
        "colab_type": "text"
      },
      "source": [
        "## **Introducción:**\n",
        "\n",
        "En esta sección se presenta uno de los tipos integrados más útiles de Python, las **listas**.\n",
        "\n",
        "Al igual que un **string**, una lista es una secuencia de valores. En un string los valores son caracteres; en una **lista**, se puede tener **cualquier tipo**. Los **valores de una lista** se denominan **elementos**.\n",
        "\n",
        "Hay varias formas de crear una nueva lista; la forma más simple es encerrar los elementos entre corchetes `([a,b,c])`:"
      ]
    },
    {
      "cell_type": "code",
      "metadata": {
        "id": "uJPry6-xfc4R",
        "colab_type": "code",
        "outputId": "0897c7f8-9e43-46cb-f695-2b9428a8c6e7",
        "colab": {
          "base_uri": "https://localhost:8080/",
          "height": 34
        }
      },
      "source": [
        "glist = ['Hola', 4, [1,2,3,4], 'Chao']\n",
        "glist"
      ],
      "execution_count": 0,
      "outputs": [
        {
          "output_type": "execute_result",
          "data": {
            "text/plain": [
              "['Hola', 4, [1, 2, 3, 4], 'Chao']"
            ]
          },
          "metadata": {
            "tags": []
          },
          "execution_count": 85
        }
      ]
    },
    {
      "cell_type": "markdown",
      "metadata": {
        "id": "JEm40WE-gEmQ",
        "colab_type": "text"
      },
      "source": [
        "Para acceder a los elementos de la lista lo hacemos mediante siguiendo la indexación \n",
        "\n",
        "`glist[0]`$\\rightarrow$ elemento 1 de la lista.\n",
        "\n",
        "`glist[1]`$\\rightarrow$ elemento 2 de la lista.\n",
        "\n",
        "`glist[2]`$\\rightarrow$ elemento 3 de la lista.\n",
        "\n",
        "`glist[3]`$\\rightarrow$ elemento 4 de la lista.\n",
        "\n",
        "Imprimamos a continuación, cada uno de los elementos que definimos en nuesta primera lista `glist`:\n"
      ]
    },
    {
      "cell_type": "code",
      "metadata": {
        "id": "_imlyYSuf4bP",
        "colab_type": "code",
        "outputId": "e8405f96-a1d7-4346-fce5-6cbf15e76f36",
        "colab": {
          "base_uri": "https://localhost:8080/",
          "height": 84
        }
      },
      "source": [
        "print(glist[0])\n",
        "print(glist[1])\n",
        "print(glist[2])\n",
        "print(glist[3])"
      ],
      "execution_count": 0,
      "outputs": [
        {
          "output_type": "stream",
          "text": [
            "Hola\n",
            "4\n",
            "[1, 2, 3, 4]\n",
            "Chao\n"
          ],
          "name": "stdout"
        }
      ]
    },
    {
      "cell_type": "markdown",
      "metadata": {
        "id": "b1Bz1-h2g-b3",
        "colab_type": "text"
      },
      "source": [
        "Nótese que el elemento 3 (`g[2]`) es un lista. Decimos entonces, que la lista `glist` es una **lista anidad**, pues puede contener otra lista. \n",
        "\n",
        "Veamos que tipo representa la variable glist:"
      ]
    },
    {
      "cell_type": "code",
      "metadata": {
        "id": "UMB9Q_Tzvr9M",
        "colab_type": "code",
        "outputId": "65521127-a955-4fc5-d0fd-8325e657ea0b",
        "colab": {
          "base_uri": "https://localhost:8080/",
          "height": 34
        }
      },
      "source": [
        "print(type(glist))"
      ],
      "execution_count": 0,
      "outputs": [
        {
          "output_type": "stream",
          "text": [
            "<class 'list'>\n"
          ],
          "name": "stdout"
        }
      ]
    },
    {
      "cell_type": "markdown",
      "metadata": {
        "id": "CzZ8AO4Kv_2Z",
        "colab_type": "text"
      },
      "source": [
        "Es importanta resaltar en este punto que **glist es un objeto de la clase list** y como tal, hereda unos metodos con los cuales podemos operar, los cuales veremos más adelante.\n",
        "\n",
        "Para saber el número de elementos de una lista, podemos invocar la función predefinida en `python` `len()`. En el caso de la lista `glist`, el número o longitud de la lista es:"
      ]
    },
    {
      "cell_type": "code",
      "metadata": {
        "id": "Xu_81373IVnZ",
        "colab_type": "code",
        "outputId": "5adb5aa8-2556-4690-bf25-4bcc1afd83d6",
        "colab": {
          "base_uri": "https://localhost:8080/",
          "height": 34
        }
      },
      "source": [
        "len(glist)"
      ],
      "execution_count": 0,
      "outputs": [
        {
          "output_type": "execute_result",
          "data": {
            "text/plain": [
              "4"
            ]
          },
          "metadata": {
            "tags": []
          },
          "execution_count": 88
        }
      ]
    },
    {
      "cell_type": "markdown",
      "metadata": {
        "id": "bwXZ9_YavmU0",
        "colab_type": "text"
      },
      "source": [
        "Una lista vacia puede ser definida de la forma:"
      ]
    },
    {
      "cell_type": "code",
      "metadata": {
        "id": "fd1J2T9ghyq9",
        "colab_type": "code",
        "outputId": "059c2caa-f0a3-457b-8884-f8286ea5294b",
        "colab": {
          "base_uri": "https://localhost:8080/",
          "height": 34
        }
      },
      "source": [
        "empty_list = []\n",
        "\n",
        "len(empty_list)"
      ],
      "execution_count": 0,
      "outputs": [
        {
          "output_type": "execute_result",
          "data": {
            "text/plain": [
              "0"
            ]
          },
          "metadata": {
            "tags": []
          },
          "execution_count": 89
        }
      ]
    },
    {
      "cell_type": "markdown",
      "metadata": {
        "id": "H7fKC8B_itj9",
        "colab_type": "text"
      },
      "source": [
        "##**Reasignación en elementos de una lista:**\n",
        "\n",
        "La sintaxis para acceder a los elementos de una lista es la misma que para acceder a los caracteres de una cadena: el **operador corchetes** `[]`. La expresión dentro de los corchetes especifica el índice. En python **los índices empiezan en 0**.\n",
        "\n",
        "A diferencia de las cadenas, **las listas permiten la reasignación**. Cuando el operador corchetes aparece en el lado izquierdo de un `=`, identifica el elemento de la lista que reasignará.\n",
        "\n",
        "Supongamos que tenemos la siguiente lista de números:"
      ]
    },
    {
      "cell_type": "code",
      "metadata": {
        "id": "x-pqYIU1vIsp",
        "colab_type": "code",
        "outputId": "99531d3a-babf-4a42-ec3c-9effd2a0951e",
        "colab": {
          "base_uri": "https://localhost:8080/",
          "height": 50
        }
      },
      "source": [
        "numbers = [1,55,133,200]\n",
        "print(\"Lista numbers: \", numbers)\n",
        "print(\"El tipo es: \", type(numbers))"
      ],
      "execution_count": 0,
      "outputs": [
        {
          "output_type": "stream",
          "text": [
            "Lista numbers:  [1, 55, 133, 200]\n",
            "El tipo es:  <class 'list'>\n"
          ],
          "name": "stdout"
        }
      ]
    },
    {
      "cell_type": "markdown",
      "metadata": {
        "id": "vdVLboT4wth6",
        "colab_type": "text"
      },
      "source": [
        "Si queremos cambiar este número por 33, por ejemplo, le reasignamos dicho valor con el operardor `=`:"
      ]
    },
    {
      "cell_type": "code",
      "metadata": {
        "id": "SF0AvrKfw5x3",
        "colab_type": "code",
        "outputId": "1e43f497-f728-4d4f-d86c-e071dec79226",
        "colab": {
          "base_uri": "https://localhost:8080/",
          "height": 34
        }
      },
      "source": [
        "numbers[2]=33\n",
        "\n",
        "print(\"La nueva lista es:\", numbers)"
      ],
      "execution_count": 0,
      "outputs": [
        {
          "output_type": "stream",
          "text": [
            "La nueva lista es: [1, 55, 33, 200]\n"
          ],
          "name": "stdout"
        }
      ]
    },
    {
      "cell_type": "markdown",
      "metadata": {
        "id": "zgIvOkIuxGD9",
        "colab_type": "text"
      },
      "source": [
        "Nótese que el elemento de la lista de la tercera posición ahora tiene un valor de 33.\n",
        "\n",
        "Los índices de lista funcionan de la misma manera que los índices en un `string`:\n",
        "\n",
        "- Cualquier número entero se puede usar como índice.\n",
        "- Si intenta leer o escribir un elemento que no existe, obtendrá un `IndexError`.\n",
        "- Si un índice tiene un valor negativo, cuenta hacia atrás desde el final de la lista.\n",
        "\n",
        "El operador `in` también opera sobre listas:"
      ]
    },
    {
      "cell_type": "code",
      "metadata": {
        "id": "Iz7uX3L05cec",
        "colab_type": "code",
        "outputId": "21b73447-c1ea-447b-8505-b50645b8225c",
        "colab": {
          "base_uri": "https://localhost:8080/",
          "height": 34
        }
      },
      "source": [
        "quesos = ['cheddar','brie','manchego','cuajada','quesillo','quesito']\n",
        "\n",
        "'quesito' in quesos"
      ],
      "execution_count": 0,
      "outputs": [
        {
          "output_type": "execute_result",
          "data": {
            "text/plain": [
              "True"
            ]
          },
          "metadata": {
            "tags": []
          },
          "execution_count": 11
        }
      ]
    },
    {
      "cell_type": "markdown",
      "metadata": {
        "id": "fFLTaRfe6Mya",
        "colab_type": "text"
      },
      "source": [
        "## **Operaciones entre listas:**\n",
        "\n",
        "Existen, básicamente, dos operaciónes entre listas.\n",
        "\n",
        "- Operador de concatenación `+` $\\rightarrow$ `a+b` concatena las listas `a` y `b`.\n",
        "- Operador de repetición `*`$\\rightarrow$ ['a']*4 repite cuatro veces el caracter 'a'."
      ]
    },
    {
      "cell_type": "code",
      "metadata": {
        "id": "5cf5H10xJ2aB",
        "colab_type": "code",
        "outputId": "2a2abe73-1a86-4cdc-e38b-448fcb9a6bf5",
        "colab": {
          "base_uri": "https://localhost:8080/",
          "height": 34
        }
      },
      "source": [
        "# Concatenación.\n",
        "\n",
        "a = [1,2,3,4]\n",
        "b = [5,6,7,8]\n",
        "\n",
        "c = a+b\n",
        "\n",
        "print(\"Resultado de la concatenación de las listas a+b=c: \",c)"
      ],
      "execution_count": 0,
      "outputs": [
        {
          "output_type": "stream",
          "text": [
            "Resultado de la concatenación de las listas a+b=c:  [1, 2, 3, 4, 5, 6, 7, 8]\n"
          ],
          "name": "stdout"
        }
      ]
    },
    {
      "cell_type": "code",
      "metadata": {
        "id": "kpBqNr5wKs7D",
        "colab_type": "code",
        "outputId": "c447f253-21a7-46fa-8782-cc452b43218c",
        "colab": {
          "base_uri": "https://localhost:8080/",
          "height": 34
        }
      },
      "source": [
        "# Repetición.\n",
        "\n",
        "r = [\"a\",3]*4\n",
        "\n",
        "print(\"El resultado de [\\\"a\\\"]*4 es: \", r)"
      ],
      "execution_count": 0,
      "outputs": [
        {
          "output_type": "stream",
          "text": [
            "El resultado de [\"a\"]*4 es:  ['a', 3, 'a', 3, 'a', 3, 'a', 3]\n"
          ],
          "name": "stdout"
        }
      ]
    },
    {
      "cell_type": "markdown",
      "metadata": {
        "id": "WvwPhzWGKUN_",
        "colab_type": "text"
      },
      "source": [
        "## **Seccionado de listas (List slices):**\n",
        "\n",
        "El operador de secionado `:` tambien puede ser usado en las listas. En general funciona de la forma:\n",
        "\n",
        "\n",
        "\n",
        "```\n",
        "lalista[inicio:final]\n",
        "```\n",
        "\n",
        "Seccionando `lalista` entre los ídices `inicio` y `final`. Veamos esto:\n"
      ]
    },
    {
      "cell_type": "code",
      "metadata": {
        "id": "arrGbufjMj-h",
        "colab_type": "code",
        "colab": {}
      },
      "source": [
        "numbers = [1,2,3,4,5,6,7,8,9]"
      ],
      "execution_count": 0,
      "outputs": []
    },
    {
      "cell_type": "code",
      "metadata": {
        "id": "QPoI0QH-NSNj",
        "colab_type": "code",
        "outputId": "a4b1e551-5b6f-4a08-bf54-a50e46c1cf1d",
        "colab": {
          "base_uri": "https://localhost:8080/",
          "height": 67
        }
      },
      "source": [
        "print('Parte 1: ', numbers[0:3])\n",
        "print('Parte 2: ', numbers[3:6])\n",
        "print('Parte 3: ', numbers[6:9])"
      ],
      "execution_count": 0,
      "outputs": [
        {
          "output_type": "stream",
          "text": [
            "Parte 1:  [1, 2, 3]\n",
            "Parte 2:  [4, 5, 6]\n",
            "Parte 3:  [7, 8, 9]\n"
          ],
          "name": "stdout"
        }
      ]
    },
    {
      "cell_type": "markdown",
      "metadata": {
        "id": "eAUBrzvsO2dx",
        "colab_type": "text"
      },
      "source": [
        "Si no especificamos en el seccionado de la lista el `inicio` y el `final`, `python` entenderá por defecto el inicio de la lista y el final de la misma (es decir, la lista entera):"
      ]
    },
    {
      "cell_type": "code",
      "metadata": {
        "id": "D4Vm9rAtO1CX",
        "colab_type": "code",
        "outputId": "6336ab9f-9d81-49a1-c7ae-b4e4d600d165",
        "colab": {
          "base_uri": "https://localhost:8080/",
          "height": 34
        }
      },
      "source": [
        "numbers[:]"
      ],
      "execution_count": 0,
      "outputs": [
        {
          "output_type": "execute_result",
          "data": {
            "text/plain": [
              "[1, 2, 3, 4, 5, 6, 7, 8, 9]"
            ]
          },
          "metadata": {
            "tags": []
          },
          "execution_count": 7
        }
      ]
    },
    {
      "cell_type": "markdown",
      "metadata": {
        "id": "Hh1UavrIRcUG",
        "colab_type": "text"
      },
      "source": [
        "De manera análoga, si especificamos el `final` pero no el `inicio`, `python` asignará al `inicio` el principio del la lista; si especificamos el `inicio` pero no el `final`, tomará el `final` como la el último índice de la lista. Veamos esto:"
      ]
    },
    {
      "cell_type": "code",
      "metadata": {
        "id": "P3OgwFfURbjk",
        "colab_type": "code",
        "outputId": "31b80a67-bcde-4dbc-a04d-2e393c7e0b49",
        "colab": {
          "base_uri": "https://localhost:8080/",
          "height": 50
        }
      },
      "source": [
        "print(numbers[:5])\n",
        "print(numbers[5:])"
      ],
      "execution_count": 0,
      "outputs": [
        {
          "output_type": "stream",
          "text": [
            "[1, 2, 3, 4, 5]\n",
            "[6, 7, 8, 9]\n"
          ],
          "name": "stdout"
        }
      ]
    },
    {
      "cell_type": "markdown",
      "metadata": {
        "id": "es4lxllHbrHN",
        "colab_type": "text"
      },
      "source": [
        "## **append**: \n",
        "\n",
        "Mediante el método `append()` se pude agregar un elemento al final de la lista, recibiendo como argumento, el elemento que se pretende agregar."
      ]
    },
    {
      "cell_type": "code",
      "metadata": {
        "id": "BXe0_ROsTZYn",
        "colab_type": "code",
        "outputId": "81f85c4e-ffde-4340-a26d-fda2d9b7c74b",
        "colab": {
          "base_uri": "https://localhost:8080/",
          "height": 34
        }
      },
      "source": [
        "numbers"
      ],
      "execution_count": 0,
      "outputs": [
        {
          "output_type": "execute_result",
          "data": {
            "text/plain": [
              "[1, 2, 3, 4, 5, 6, 7, 8, 9]"
            ]
          },
          "metadata": {
            "tags": []
          },
          "execution_count": 9
        }
      ]
    },
    {
      "cell_type": "code",
      "metadata": {
        "id": "DGo1JENvb-MJ",
        "colab_type": "code",
        "outputId": "31a358b2-16c1-4a78-dbda-29f7a5cedddc",
        "colab": {
          "base_uri": "https://localhost:8080/",
          "height": 34
        }
      },
      "source": [
        "numbers.append(10)\n",
        "numbers"
      ],
      "execution_count": 0,
      "outputs": [
        {
          "output_type": "execute_result",
          "data": {
            "text/plain": [
              "[1, 2, 3, 4, 5, 6, 7, 8, 9, 10]"
            ]
          },
          "metadata": {
            "tags": []
          },
          "execution_count": 10
        }
      ]
    },
    {
      "cell_type": "markdown",
      "metadata": {
        "id": "wO_f9FflcYtM",
        "colab_type": "text"
      },
      "source": [
        "## **copy:**\n",
        "\n",
        "El método `.copy()` realiza una de una lista que puede asignársele a una lista nueva. Este método no recibe ningún argumento."
      ]
    },
    {
      "cell_type": "code",
      "metadata": {
        "id": "m_zzcJb3cZg7",
        "colab_type": "code",
        "outputId": "c5c3301e-201c-4ed4-b46c-91009c05a681",
        "colab": {
          "base_uri": "https://localhost:8080/",
          "height": 34
        }
      },
      "source": [
        "new_numbers = numbers.copy()\n",
        "new_numbers"
      ],
      "execution_count": 0,
      "outputs": [
        {
          "output_type": "execute_result",
          "data": {
            "text/plain": [
              "[1, 2, 3, 4, 5, 6, 7, 8, 9, 10]"
            ]
          },
          "metadata": {
            "tags": []
          },
          "execution_count": 11
        }
      ]
    },
    {
      "cell_type": "markdown",
      "metadata": {
        "id": "Xim1FReOeJX_",
        "colab_type": "text"
      },
      "source": [
        "También podemos realizar una copia en `new_numbers` mediante una simple asignación:"
      ]
    },
    {
      "cell_type": "code",
      "metadata": {
        "id": "g99VBsNmeImt",
        "colab_type": "code",
        "outputId": "80724d7e-29b9-4908-9267-47e8f13fa3ef",
        "colab": {
          "base_uri": "https://localhost:8080/",
          "height": 34
        }
      },
      "source": [
        "new_numbers = numbers\n",
        "new_numbers"
      ],
      "execution_count": 0,
      "outputs": [
        {
          "output_type": "execute_result",
          "data": {
            "text/plain": [
              "[1, 2, 3, 4, 5, 6, 7, 8, 9, 10]"
            ]
          },
          "metadata": {
            "tags": []
          },
          "execution_count": 12
        }
      ]
    },
    {
      "cell_type": "markdown",
      "metadata": {
        "id": "Ae2ePJL2eu-6",
        "colab_type": "text"
      },
      "source": [
        "Además, es posible realizar una copia utilizando el método de seccionado. Por ejemplo, si queremos cuardar los tres primero números de la lista `number` lo podemos realizar de la siguiente forma:"
      ]
    },
    {
      "cell_type": "code",
      "metadata": {
        "id": "-3hjoiPVfvgD",
        "colab_type": "code",
        "outputId": "2972b600-e073-4817-ae8d-239b27b44c78",
        "colab": {
          "base_uri": "https://localhost:8080/",
          "height": 34
        }
      },
      "source": [
        "new_numbers = numbers[0:3]\n",
        "new_numbers"
      ],
      "execution_count": 0,
      "outputs": [
        {
          "output_type": "execute_result",
          "data": {
            "text/plain": [
              "[1, 2, 3]"
            ]
          },
          "metadata": {
            "tags": []
          },
          "execution_count": 13
        }
      ]
    },
    {
      "cell_type": "markdown",
      "metadata": {
        "id": "nYO_Uxselgtl",
        "colab_type": "text"
      },
      "source": [
        "## **extend:**\n",
        "\n",
        "Mediante el método `.extend()`, podemos extender una lista pasando como argumento un iterable (otra lista por ejemplo). De esta forma, podemos agregar tantos elementos como hayan en el itereable:"
      ]
    },
    {
      "cell_type": "code",
      "metadata": {
        "id": "br-UQPstmMKJ",
        "colab_type": "code",
        "outputId": "8564108a-2383-46c5-e52a-58302a66358a",
        "colab": {
          "base_uri": "https://localhost:8080/",
          "height": 34
        }
      },
      "source": [
        "new_numbers.extend([22,33,44])\n",
        "\n",
        "print(new_numbers)"
      ],
      "execution_count": 0,
      "outputs": [
        {
          "output_type": "stream",
          "text": [
            "[1, 2, 3, 22, 33, 44]\n"
          ],
          "name": "stdout"
        }
      ]
    },
    {
      "cell_type": "markdown",
      "metadata": {
        "id": "f2Frg-LBorWQ",
        "colab_type": "text"
      },
      "source": [
        "## **index**:\n",
        "\n",
        "La función `.index(valor,inicio,final)` nos devuelve el índice de un valor dado entre las posiciones `inicio` y `final`, siempre y cuando esté en la lista:"
      ]
    },
    {
      "cell_type": "code",
      "metadata": {
        "id": "cuGRiKKzm5MS",
        "colab_type": "code",
        "outputId": "b4958dfa-1b63-4595-ea9e-dc519334ce4e",
        "colab": {
          "base_uri": "https://localhost:8080/",
          "height": 34
        }
      },
      "source": [
        "new_numbers.index(33,2,5)"
      ],
      "execution_count": 0,
      "outputs": [
        {
          "output_type": "execute_result",
          "data": {
            "text/plain": [
              "4"
            ]
          },
          "metadata": {
            "tags": []
          },
          "execution_count": 15
        }
      ]
    },
    {
      "cell_type": "markdown",
      "metadata": {
        "id": "ZYZOpn_apfsJ",
        "colab_type": "text"
      },
      "source": [
        "En caso de no especificar el inicio y el final, asumirá el inicio y final de la lista:"
      ]
    },
    {
      "cell_type": "code",
      "metadata": {
        "id": "qOTi3toapes1",
        "colab_type": "code",
        "outputId": "05f9894f-daa6-4434-bce7-e6309cfe0545",
        "colab": {
          "base_uri": "https://localhost:8080/",
          "height": 34
        }
      },
      "source": [
        "new_numbers.index(3)"
      ],
      "execution_count": 0,
      "outputs": [
        {
          "output_type": "execute_result",
          "data": {
            "text/plain": [
              "2"
            ]
          },
          "metadata": {
            "tags": []
          },
          "execution_count": 16
        }
      ]
    },
    {
      "cell_type": "markdown",
      "metadata": {
        "id": "DlPemQ6SqGko",
        "colab_type": "text"
      },
      "source": [
        "## **insert**\n",
        "\n",
        "Al contrario de `L.append()`, que adiciona un elemento al final de la lista, `L.insert(índice,objeto)` lo agrega un `objeto` en la posición indicada por `indice`. \n",
        "\n",
        "Almacenemos, por ejemplo, las tres últimas vocales en una lista."
      ]
    },
    {
      "cell_type": "code",
      "metadata": {
        "id": "3gQ0_LkUq_vB",
        "colab_type": "code",
        "outputId": "d8520267-14da-4364-8bb5-dd9389414168",
        "colab": {
          "base_uri": "https://localhost:8080/",
          "height": 34
        }
      },
      "source": [
        "vocales = ['i','o','u']\n",
        "vocales"
      ],
      "execution_count": 0,
      "outputs": [
        {
          "output_type": "execute_result",
          "data": {
            "text/plain": [
              "['i', 'o', 'u']"
            ]
          },
          "metadata": {
            "tags": []
          },
          "execution_count": 17
        }
      ]
    },
    {
      "cell_type": "markdown",
      "metadata": {
        "id": "ZsG5TmnCr-fv",
        "colab_type": "text"
      },
      "source": [
        "Para agregar las vocales faltantes al inicio de la lista `vocales` lo hacemos de la siguiente forma:"
      ]
    },
    {
      "cell_type": "code",
      "metadata": {
        "id": "jQF8xKSKrK11",
        "colab_type": "code",
        "outputId": "7e8c60a8-c156-4fb4-e5ee-ac81b6d96416",
        "colab": {
          "base_uri": "https://localhost:8080/",
          "height": 34
        }
      },
      "source": [
        "vocales.insert(0,'e')\n",
        "vocales.insert(0,'a')\n",
        "vocales.insert(3,'y')\n",
        "vocales"
      ],
      "execution_count": 0,
      "outputs": [
        {
          "output_type": "execute_result",
          "data": {
            "text/plain": [
              "['a', 'e', 'i', 'y', 'o', 'u']"
            ]
          },
          "metadata": {
            "tags": []
          },
          "execution_count": 18
        }
      ]
    },
    {
      "cell_type": "markdown",
      "metadata": {
        "id": "v96IHyHesxC9",
        "colab_type": "text"
      },
      "source": [
        "##**pop y revomove:**\n",
        "\n",
        "Si pretendemos eliminar algún elemento de una lista, existe en `python` dos métodos que cumplen este fin. \n",
        "\n",
        "Por una parte, el método `L.pop(índice)` elimina el valor contenido la posición `índice`. Por otra parte, si queremos eliminar un valor contenido en la lista, usamos el método `L.remove(valor)`. \n",
        "\n",
        "Veamos esto mediante dos ejemplos  aplicados en una misma lista:"
      ]
    },
    {
      "cell_type": "code",
      "metadata": {
        "id": "hOqX8XyasU3X",
        "colab_type": "code",
        "outputId": "a2df093a-d111-4891-d9b9-998b31ad60be",
        "colab": {
          "base_uri": "https://localhost:8080/",
          "height": 34
        }
      },
      "source": [
        "\n",
        "# Remoción en lista mediante el índice.\n",
        "vocales.pop(0)\n",
        "vocales"
      ],
      "execution_count": 0,
      "outputs": [
        {
          "output_type": "execute_result",
          "data": {
            "text/plain": [
              "['e', 'i', 'y', 'o', 'u']"
            ]
          },
          "metadata": {
            "tags": []
          },
          "execution_count": 19
        }
      ]
    },
    {
      "cell_type": "code",
      "metadata": {
        "id": "W_RBlTuZumAY",
        "colab_type": "code",
        "outputId": "8738382f-c69a-47f7-f37c-164005b47aea",
        "colab": {
          "base_uri": "https://localhost:8080/",
          "height": 34
        }
      },
      "source": [
        "# Remoción en lista de un valor:\n",
        "vocales.remove('e')\n",
        "vocales"
      ],
      "execution_count": 0,
      "outputs": [
        {
          "output_type": "execute_result",
          "data": {
            "text/plain": [
              "['i', 'y', 'o', 'u']"
            ]
          },
          "metadata": {
            "tags": []
          },
          "execution_count": 20
        }
      ]
    },
    {
      "cell_type": "markdown",
      "metadata": {
        "id": "cawcwgYfxCEg",
        "colab_type": "text"
      },
      "source": [
        "##**sort:**\n",
        "\n",
        "Si dentro de una lista contenemos diferentes nombres o apellidos, sería excelente contar con un método que nos permitiese organizar la lista en orden alfabético. \n",
        "\n",
        "El método `L.sort(key=None, reverse=False)` nos permite llevar a cabo esta tarea, teniendo en cuenta que la ordenación la se realizará teniendo en cuenta la siguiente gerarquía por defecto (es decir, si llamamos el método sin argumentos):\n",
        "\n",
        "- Caracteres especiales.\n",
        "- Números\n",
        "- Letras en máyusculas.\n",
        "- Letras en minúsculas."
      ]
    },
    {
      "cell_type": "code",
      "metadata": {
        "id": "BFK7eURaw2fM",
        "colab_type": "code",
        "outputId": "87e58f96-ad0a-441f-870d-85619b55ae19",
        "colab": {
          "base_uri": "https://localhost:8080/",
          "height": 34
        }
      },
      "source": [
        "aList = ['@','#','!','1','2','3','a','b','c','A','B','C']\n",
        "aList"
      ],
      "execution_count": 0,
      "outputs": [
        {
          "output_type": "execute_result",
          "data": {
            "text/plain": [
              "['@', '#', '!', '1', '2', '3', 'a', 'b', 'c', 'A', 'B', 'C']"
            ]
          },
          "metadata": {
            "tags": []
          },
          "execution_count": 21
        }
      ]
    },
    {
      "cell_type": "code",
      "metadata": {
        "id": "OjpWitsv3gzV",
        "colab_type": "code",
        "outputId": "97a023cb-3f4d-4029-8284-e710d6ba30e1",
        "colab": {
          "base_uri": "https://localhost:8080/",
          "height": 34
        }
      },
      "source": [
        "aList.sort()\n",
        "aList"
      ],
      "execution_count": 0,
      "outputs": [
        {
          "output_type": "execute_result",
          "data": {
            "text/plain": [
              "['!', '#', '1', '2', '3', '@', 'A', 'B', 'C', 'a', 'b', 'c']"
            ]
          },
          "metadata": {
            "tags": []
          },
          "execution_count": 22
        }
      ]
    },
    {
      "cell_type": "markdown",
      "metadata": {
        "id": "5DK9Er1R4f8S",
        "colab_type": "text"
      },
      "source": [
        "Si especificamos en el argumento `reverse=True`, obtendremos la organización de forma invertida:"
      ]
    },
    {
      "cell_type": "code",
      "metadata": {
        "id": "KLICPMgT4zBP",
        "colab_type": "code",
        "outputId": "f07360af-7c8c-49b2-8531-71d3f42a642e",
        "colab": {
          "base_uri": "https://localhost:8080/",
          "height": 34
        }
      },
      "source": [
        "aList.sort(reverse=True)\n",
        "aList\n"
      ],
      "execution_count": 0,
      "outputs": [
        {
          "output_type": "execute_result",
          "data": {
            "text/plain": [
              "['c', 'b', 'a', 'C', 'B', 'A', '@', '3', '2', '1', '#', '!']"
            ]
          },
          "metadata": {
            "tags": []
          },
          "execution_count": 114
        }
      ]
    },
    {
      "cell_type": "markdown",
      "metadata": {
        "id": "gSY91KRu250m",
        "colab_type": "text"
      },
      "source": [
        "Si por el contrario, queremos ordenar la lista priorizando a las letras en minúscula, hacemos en el argumento `key=str.lower`:"
      ]
    },
    {
      "cell_type": "code",
      "metadata": {
        "id": "eb_80WO63pbL",
        "colab_type": "code",
        "outputId": "34f2bf09-af21-4df1-a326-628b727e0254",
        "colab": {
          "base_uri": "https://localhost:8080/",
          "height": 34
        }
      },
      "source": [
        "aList = ['@','#','!','1','2','3','a','b','c','A','B','C']\n",
        "aList.sort(key=str.lower)\n",
        "aList"
      ],
      "execution_count": 0,
      "outputs": [
        {
          "output_type": "execute_result",
          "data": {
            "text/plain": [
              "['!', '#', '1', '2', '3', '@', 'a', 'A', 'b', 'B', 'c', 'C']"
            ]
          },
          "metadata": {
            "tags": []
          },
          "execution_count": 115
        }
      ]
    },
    {
      "cell_type": "markdown",
      "metadata": {
        "id": "LJlHgZqE5cn8",
        "colab_type": "text"
      },
      "source": [
        "## **Listas y strings:**\n",
        "\n",
        "En la sección anterior se estudió la declaración y manipulación de strings en `python`. Teniendo en cuenta que un `string` es una secuencia de caracteres, podemos convertirlos en una lista de la siguiente manera usando la función de `python` `list()`. \n",
        "\n",
        "Supongamos que declaramos la cadena de caracteres:"
      ]
    },
    {
      "cell_type": "code",
      "metadata": {
        "id": "ZZoQrEwK6GXz",
        "colab_type": "code",
        "outputId": "e43bcb7f-4f9d-444c-f3bc-62c5026e4fe1",
        "colab": {
          "base_uri": "https://localhost:8080/",
          "height": 34
        }
      },
      "source": [
        "s = \"Hola Mundo\"\n",
        "print(\"El tipo de la variable s es: \", type(s))"
      ],
      "execution_count": 0,
      "outputs": [
        {
          "output_type": "stream",
          "text": [
            "El tipo de la variable s es:  <class 'str'>\n"
          ],
          "name": "stdout"
        }
      ]
    },
    {
      "cell_type": "markdown",
      "metadata": {
        "id": "FtEqMRnMLUgo",
        "colab_type": "text"
      },
      "source": [
        "Para convertir este `string` en una lista hacemos:"
      ]
    },
    {
      "cell_type": "code",
      "metadata": {
        "id": "EH2lDSNiMBFM",
        "colab_type": "code",
        "outputId": "6a3a099d-160a-47ac-bafa-60a08500e31e",
        "colab": {
          "base_uri": "https://localhost:8080/",
          "height": 50
        }
      },
      "source": [
        "s = list(s)\n",
        "\n",
        "print(\"Ahora, el tipo de la variable s ha sido convertido a: \", type(s))\n",
        "print(s)"
      ],
      "execution_count": 0,
      "outputs": [
        {
          "output_type": "stream",
          "text": [
            "Ahora, el tipo de la variable s ha sido convertido a:  <class 'list'>\n",
            "['H', 'o', 'l', 'a', ' ', 'M', 'u', 'n', 'd', 'o']\n"
          ],
          "name": "stdout"
        }
      ]
    },
    {
      "cell_type": "markdown",
      "metadata": {
        "id": "EHzW9_NhNHIX",
        "colab_type": "text"
      },
      "source": [
        "Tenga en cuenta que `list()` es una función predefinida en `python`, por lo tanto, debe evitar llamar a una lista con esta palabra.\n",
        "\n",
        "El almacenamiento de strings como listas resulta útil a la hora de hacer divisiones estableciendo un delimintador. Suponga, por ejemplo, que tiene un string que contiene diferentes palabras con espacios entre ellas, y que desea guardar las palabras por separado en una lista. Pordemos usar el método `.split()` de la clase `string` y almacenar el resultado en una variable; dicha variable será un objeto de la clase `list`. "
      ]
    },
    {
      "cell_type": "markdown",
      "metadata": {
        "id": "_JFJhylsJlRZ",
        "colab_type": "text"
      },
      "source": [
        "## **Concatenación de elementos de una lista con un string.** \n",
        "\n",
        "En algunos casos podria concatenarse los elementos de una lista con un string. Debido a que las listas pueden contener elementos de varios tipos, es mejor realizar un cambio de tipo (o casteo) a un string para evitar errores. Para realizar esta tarea existe la función predefinida en `python` `str()`, la cual podemos emplear de la siguiente forma en una lista de carateres y número `gen_list`:"
      ]
    },
    {
      "cell_type": "code",
      "metadata": {
        "id": "JlmAkX1ZKdov",
        "colab_type": "code",
        "outputId": "7aecc785-a9ff-4fbc-80d3-747a0fc8ea55",
        "colab": {
          "base_uri": "https://localhost:8080/",
          "height": 84
        }
      },
      "source": [
        "gen_list = ['a', 4, 'hola', 10.9]\n",
        "\n",
        "print(\"Primer elemento del gen_List: \"+str(gen_list[0]))\n",
        "print(\"Primer elemento del gen_List: \"+str(gen_list[1]))\n",
        "print(\"Primer elemento del gen_List: \"+str(gen_list[2]))\n",
        "print(\"Primer elemento del gen_List: \"+str(gen_list[3]))"
      ],
      "execution_count": 0,
      "outputs": [
        {
          "output_type": "stream",
          "text": [
            "Primer elemento del gen_List: a\n",
            "Primer elemento del gen_List: 4\n",
            "Primer elemento del gen_List: hola\n",
            "Primer elemento del gen_List: 10.9\n"
          ],
          "name": "stdout"
        }
      ]
    },
    {
      "cell_type": "markdown",
      "metadata": {
        "id": "p0BPDPlxMRAG",
        "colab_type": "text"
      },
      "source": [
        "## **Ejercicios de listas:**"
      ]
    },
    {
      "cell_type": "markdown",
      "metadata": {
        "id": "3wlDohUHNLfF",
        "colab_type": "text"
      },
      "source": [
        "**Ejercicio 1**:\n",
        "\n",
        "En la siguiente celda se crean varias listas con diferentes de diferentes longitudes. Si la lista es de longitud impar, imprima el elemento almacenado en la mitad de la lista, en caso contrario, imprima los dos elementos que se hallan en la mitad."
      ]
    },
    {
      "cell_type": "code",
      "metadata": {
        "id": "xtjaX8KG4X7Z",
        "colab_type": "code",
        "colab": {}
      },
      "source": [
        "lista1 =list('paranguacutirimicuaro') \n",
        "lista2 =list('1234567890')\n",
        "lista3 =list('abcdefghijklmnopqrstvxyz') \n",
        "lista4 =[i for i in range(0,999,2)]"
      ],
      "execution_count": 0,
      "outputs": []
    },
    {
      "cell_type": "markdown",
      "metadata": {
        "id": "TYJ-0Dkx5R1W",
        "colab_type": "text"
      },
      "source": [
        "Para ver la solución al ejercicio haga doble click **aquí**\n",
        "\n",
        "<!----\n",
        "\n",
        "# si se hace len(lista)/2 se puede determinar la mitad de la lista. Si da un número entero, la lista es par y a ese entero se le resta 1 y se le suma 1, y esos dos valores se usan para imprimir los elementos en la mitad; si la división es decimal, se redondea hacia arriba y se imprime el elemento accediendo mediante el valor que se obtenga.\n",
        "\n",
        "\n",
        "def FunctList(l):\n",
        "  if len(l) % 2 == 0:\n",
        "    return print(l[int(len(l)/2 -1)],l[int(len(l)/2)])\n",
        "  if len(l) % 2 != 0:\n",
        "    return print(l[int(len(l)/2-0.5)])\n",
        "FunctList(lista4)\n",
        "----->"
      ]
    },
    {
      "cell_type": "markdown",
      "metadata": {
        "id": "Dd0ZRaJpqQ2R",
        "colab_type": "text"
      },
      "source": [
        "**Ejercicio 2:**\n",
        "\n",
        "En un colegio personalizado del país, se tienen salones constituidos por 5 estudiantes. La lista de estudiantes de uno de ellos es:\n",
        "\n",
        "```\n",
        "kinderA_lista = ['Gómez, Sebastián', 'Arango, Natalia', 'Zambrano, Javier', 'Domingo, Carolina'] \n",
        "````\n",
        "\n",
        "Organice dicha lista en orden alfabético, guardándola en la misma variable e imprímala en pantalla."
      ]
    },
    {
      "cell_type": "markdown",
      "metadata": {
        "id": "5mhF-zLv-Nqj",
        "colab_type": "text"
      },
      "source": [
        "Para ver la solución del problema haga doble click **aquí**.\n",
        "\n",
        "<!----\n",
        "kinderA_lista = ['Gómez, Sebastián', 'Arango, Natalia', 'Zambrano, Javier', 'Domingo, Carolina']\n",
        "\n",
        "kinderA_lista.sort()\n",
        "\n",
        "kinderA_lista\n",
        "---->"
      ]
    },
    {
      "cell_type": "markdown",
      "metadata": {
        "id": "QmL4WrR4iGNk",
        "colab_type": "text"
      },
      "source": [
        "**Ejercicio 3:** La siguiente lista representa una pequeña base de datos constituida por pacientes de una clinica en la ciudad de Medellín. Cada paciente se identifica como:\n",
        "\n",
        "```\n",
        "ID_numero-Medellin\n",
        "```\n",
        "\n",
        "Por motivos de optimización, una programador en `python`requier extraer solamente el número de identificación de cada elemento de la lista. Realice la extracción del número elemento por elemento, de la siguiente lista:\n",
        "\n",
        "\n",
        "```\n",
        "pacientes = [\"ID_0001-Medellin\",\"ID_0002-Medellin\",\"ID_0003-Medellin\",\"ID_0004-Medellin\"]\n",
        "```"
      ]
    },
    {
      "cell_type": "markdown",
      "metadata": {
        "id": "d-CfIB54-u69",
        "colab_type": "text"
      },
      "source": [
        "Para ver la solución del problema haga doble click **aquí**.\n",
        "\n",
        "<!----\n",
        "pacientes = [\"ID_0001-Medellin\",\"ID_0002-Medellin\",\"ID_0003-Medellin\",\"ID_0004-Medellin\"]\n",
        "\n",
        "pacientes[0]=pacientes[0].split('-')[0].split('_')[1]\n",
        "pacientes[1]=pacientes[1].split('-')[0].split('_')[1]  \n",
        "pacientes[2]=pacientes[2].split('-')[0].split('_')[1] \n",
        "pacientes[3]=pacientes[3].split('-')[0].split('_')[1] \n",
        "pacientes\n",
        "---->"
      ]
    },
    {
      "cell_type": "markdown",
      "metadata": {
        "id": "IX1CLHaUcR90",
        "colab_type": "text"
      },
      "source": [
        "#**Diccionarios**"
      ]
    },
    {
      "cell_type": "markdown",
      "metadata": {
        "id": "5VnTnXrfjPBJ",
        "colab_type": "text"
      },
      "source": [
        "\n",
        "\n",
        "Los diccionarios son también parecidos a las listas, excepto que cada elemento es una pareja clave y valor. La sintaxis en los diccionarios es de la forma \n",
        "\n",
        "\n",
        "\n",
        "```\n",
        "mi_diccionario = {clave1 : valor1, clave2 : valor2,...,claveN : valorN}: \n",
        "```\n",
        "\n",
        "Definamos nuestros primer diccionario:\n"
      ]
    },
    {
      "cell_type": "code",
      "metadata": {
        "id": "Rdi35F11idbZ",
        "colab_type": "code",
        "outputId": "e2fb3cc5-94c8-490d-ca0f-56b091572ec6",
        "colab": {
          "base_uri": "https://localhost:8080/",
          "height": 50
        }
      },
      "source": [
        "params = {\"parameter1\" : 1.0,\n",
        "          \"parameter2\" : 2.0,\n",
        "          \"parameter3\" : 3.0,}\n",
        "\n",
        "print(type(params),len(params))\n",
        "print(params)"
      ],
      "execution_count": 0,
      "outputs": [
        {
          "output_type": "stream",
          "text": [
            "<class 'dict'> 3\n",
            "{'parameter1': 1.0, 'parameter2': 2.0, 'parameter3': 3.0}\n"
          ],
          "name": "stdout"
        }
      ]
    },
    {
      "cell_type": "markdown",
      "metadata": {
        "id": "2PZL5oYdktwF",
        "colab_type": "text"
      },
      "source": [
        "A las entradas de los diccionarios solo puede accerderse mediante el nombre de la clave. \n"
      ]
    },
    {
      "cell_type": "code",
      "metadata": {
        "id": "93n0akRtj8nX",
        "colab_type": "code",
        "outputId": "f09de651-da4b-487e-e854-b8ee5bf48f75",
        "colab": {
          "base_uri": "https://localhost:8080/",
          "height": 34
        }
      },
      "source": [
        "params[\"parameter2\"]"
      ],
      "execution_count": 0,
      "outputs": [
        {
          "output_type": "execute_result",
          "data": {
            "text/plain": [
              "2.0"
            ]
          },
          "metadata": {
            "tags": []
          },
          "execution_count": 17
        }
      ]
    },
    {
      "cell_type": "markdown",
      "metadata": {
        "id": "yFMpZhRBtBzi",
        "colab_type": "text"
      },
      "source": [
        "Los valores de los diccionarios pueden ser reasignados, accediendo mendiante la palabra clave y usando el operar `=`, de la siguiente forma:"
      ]
    },
    {
      "cell_type": "code",
      "metadata": {
        "id": "VKmRpnJLlKQE",
        "colab_type": "code",
        "outputId": "f411b6c6-13e0-4678-f1c9-d9b67ede5d8d",
        "colab": {
          "base_uri": "https://localhost:8080/",
          "height": 34
        }
      },
      "source": [
        "params[\"parameter1\"] = \"A\"\n",
        "params[\"parameter2\"] = \"B\"\n",
        "\n",
        "params"
      ],
      "execution_count": 0,
      "outputs": [
        {
          "output_type": "execute_result",
          "data": {
            "text/plain": [
              "{'parameter1': 'A', 'parameter2': 'B', 'parameter3': 3.0}"
            ]
          },
          "metadata": {
            "tags": []
          },
          "execution_count": 18
        }
      ]
    },
    {
      "cell_type": "markdown",
      "metadata": {
        "id": "Bub26ZP2tmw_",
        "colab_type": "text"
      },
      "source": [
        "Para adicionar una nueva entrada en el diccionario, lo realizamos de la siguiente forma:\n",
        "\n",
        "\n",
        "\n",
        "```\n",
        "mi_diccionario[clave_nueva] = valor\n",
        "```\n",
        "\n",
        "Agregemos una entrada nueva al diccionario `params`:\n",
        "\n"
      ]
    },
    {
      "cell_type": "code",
      "metadata": {
        "id": "563W64Wztnm7",
        "colab_type": "code",
        "outputId": "79a96cc7-96ac-4fef-efc6-58811ae2586d",
        "colab": {
          "base_uri": "https://localhost:8080/",
          "height": 34
        }
      },
      "source": [
        "# Entrada nueva\n",
        "params[\"parameter4\"] = \"D\"\n",
        "params"
      ],
      "execution_count": 0,
      "outputs": [
        {
          "output_type": "execute_result",
          "data": {
            "text/plain": [
              "{'parameter1': 'A', 'parameter2': 'B', 'parameter3': 3.0, 'parameter4': 'D'}"
            ]
          },
          "metadata": {
            "tags": []
          },
          "execution_count": 19
        }
      ]
    },
    {
      "cell_type": "markdown",
      "metadata": {
        "id": "zZFCzyoTVLrY",
        "colab_type": "text"
      },
      "source": [
        "### **Métodos de la clase diccionario:**\n",
        "\n",
        "Los métodos más naturales que podriamos advertir en un diccionario correspondería dos métodos que impriman las claves y valores de los diccionarios; estos métodos estan constituidos, respectivamente, por `.keys()` y `.values`:"
      ]
    },
    {
      "cell_type": "code",
      "metadata": {
        "id": "UELfjtdEzeEG",
        "colab_type": "code",
        "outputId": "68126ff0-aada-4e8c-d31c-eed4fc662f23",
        "colab": {
          "base_uri": "https://localhost:8080/",
          "height": 50
        }
      },
      "source": [
        "print(\"Claves del diccionario params\", params.keys())\n",
        "print(\"Valores del diccionario params\", params.values())"
      ],
      "execution_count": 0,
      "outputs": [
        {
          "output_type": "stream",
          "text": [
            "Claves del diccionario params dict_keys(['parameter1', 'parameter2', 'parameter3', 'parameter4'])\n",
            "Valores del diccionario params dict_values(['A', 'B', 3.0, 'D'])\n"
          ],
          "name": "stdout"
        }
      ]
    },
    {
      "cell_type": "markdown",
      "metadata": {
        "id": "cqx347Tw0Y6q",
        "colab_type": "text"
      },
      "source": [
        "Por otra parte, mediante el método `item()` podemos obtener todas las parejas de clave-valor de un diccionario:"
      ]
    },
    {
      "cell_type": "code",
      "metadata": {
        "id": "-q-W2bCT3VkU",
        "colab_type": "code",
        "outputId": "ecf115c5-d36b-4eaf-e93e-04c2d31397a0",
        "colab": {
          "base_uri": "https://localhost:8080/",
          "height": 34
        }
      },
      "source": [
        "params.items()"
      ],
      "execution_count": 0,
      "outputs": [
        {
          "output_type": "execute_result",
          "data": {
            "text/plain": [
              "dict_items([('parameter1', 'A'), ('parameter2', 'B'), ('parameter3', 3.0), ('parameter4', 'D')])"
            ]
          },
          "metadata": {
            "tags": []
          },
          "execution_count": 21
        }
      ]
    },
    {
      "cell_type": "markdown",
      "metadata": {
        "id": "E1k-k1ttwa3B",
        "colab_type": "text"
      },
      "source": [
        "## **Ejercicios**"
      ]
    },
    {
      "cell_type": "markdown",
      "metadata": {
        "id": "rf_9faQuwi3o",
        "colab_type": "text"
      },
      "source": [
        "###**Ejercicio:**"
      ]
    },
    {
      "cell_type": "markdown",
      "metadata": {
        "id": "ImjKf1DUv-io",
        "colab_type": "text"
      },
      "source": [
        "Las siguientes líneas de código construyen un histograma de una variable `s` a partir de la creacción de un histograma:\n",
        "\n",
        "\n",
        "\n",
        "```\n",
        "def histograma(s):\n",
        "  d = dict()\n",
        "  for c in s:\n",
        "    if c not in d:\n",
        "      d[c] = 1\n",
        "    else:\n",
        "      d[c] += 1\n",
        "  return d\n",
        "```\n",
        "\n",
        "Supongamos que usamos la función anterior para crear un histograma de los caracteres de alguna palabra u oración:\n",
        "\n",
        "\n",
        "```\n",
        "palabra = 'electroencefalografista'\n",
        "h=histograma(palabra)\n",
        "```\n",
        "<!----\n",
        "Por otra parte, el método  `get()` de un diccionario recibe dos argumentos: `clave1` y `valor1`. Si la clave está dentro del diccionario, devuelve el valor asociado a clave dentro del dicciorio, sino, devuelve `valor1`. Use éste método para eliminar el condicional de la función `histograma`.\n",
        "--->\n",
        "\n"
      ]
    },
    {
      "cell_type": "markdown",
      "metadata": {
        "id": "-1VNlELf3xgN",
        "colab_type": "text"
      },
      "source": [
        "Para ver la solución al ejercicio haga doble click **aquí**\n",
        "\n",
        "<!----\n",
        "def histograma(s):\n",
        "  d = dict()\n",
        "  for c in s:\n",
        "    d[c] = 1+d.get(c,0)\n",
        "  return d\n",
        "\n",
        "palabra = 'electroencefalografista'\n",
        "h = histograma(palabra)\n",
        "h\n",
        "----->"
      ]
    },
    {
      "cell_type": "markdown",
      "metadata": {
        "id": "k3LCIGm2yJ7c",
        "colab_type": "text"
      },
      "source": [
        "### **Ejercicio:** \n",
        "\n",
        "Suponga que tiene los siguients dos diccionarios:\n",
        "\n",
        "\n",
        "\n",
        "```\n",
        "a = {'x' : 1, 'y' : 2, 'z' : 3}\n",
        "b = {'w' : 10, 'x' : 11,'y' : 2}\n",
        "```\n",
        "\n",
        "Encuentre las claves e ítems comunes de ambos diccionarios.\n"
      ]
    },
    {
      "cell_type": "markdown",
      "metadata": {
        "id": "BZ76WLIU3gqM",
        "colab_type": "text"
      },
      "source": [
        "Para ver la solución al ejercicio haga doble click **aquí**\n",
        "<!----\n",
        "a = {'x' : 1, 'y' : 2, 'z' : 3}\n",
        "b = {'w' : 10, 'x' : 11,'y' : 2}\n",
        "print(\"Claves en común\", a.keys()&b.keys())\n",
        "print(\"Claves en común\", a.items()&b.items())\n",
        "---->\n"
      ]
    },
    {
      "cell_type": "markdown",
      "metadata": {
        "colab_type": "text",
        "id": "pqi4Yoe04J66"
      },
      "source": [
        "#**Tuplas**\n",
        "\n",
        "En esta sección estudiantemo un tipo predefinido en `python`conocido como `tuplas`. "
      ]
    },
    {
      "cell_type": "markdown",
      "metadata": {
        "id": "nLpPyNNqs8Jh",
        "colab_type": "text"
      },
      "source": [
        "## **Declaración de una tupla:**\n",
        "\n",
        "Las **tuplas** representa una secuentacia de valores, cuya característica principal es que, una vez definido sus valores, estos **no son reasignables o inmutables**. Al declarar una tupla, cada valor debe ser separado por una coma. Para declarar una tupla, usamos la misma sintaxis que al declarar una lista pero en lugar de usar corchetes `[]`, se hace uso de parentesis `()`:\n",
        "\n",
        "\n"
      ]
    },
    {
      "cell_type": "code",
      "metadata": {
        "id": "CJeioXYJbwvW",
        "colab_type": "code",
        "outputId": "02e8e27a-f94d-419b-f64c-abf9ded3d4c5",
        "colab": {
          "base_uri": "https://localhost:8080/",
          "height": 34
        }
      },
      "source": [
        "mi_tupla = ('a',1,'b',2)\n",
        "print(type(mi_tupla))"
      ],
      "execution_count": 0,
      "outputs": [
        {
          "output_type": "stream",
          "text": [
            "<class 'tuple'>\n"
          ],
          "name": "stdout"
        }
      ]
    },
    {
      "cell_type": "code",
      "metadata": {
        "id": "x-Og_17L1XM4",
        "colab_type": "code",
        "outputId": "e21b1659-1963-4ed8-bc5c-b8463405ba9c",
        "colab": {
          "base_uri": "https://localhost:8080/",
          "height": 34
        }
      },
      "source": [
        "try:\n",
        "  mi_tupla[0]=4 # intentamos reasignar un valor de un elemento de una tupla predefinida. \n",
        "except TypeError as tp:\n",
        "  print(tp)"
      ],
      "execution_count": 0,
      "outputs": [
        {
          "output_type": "stream",
          "text": [
            "'tuple' object does not support item assignment\n"
          ],
          "name": "stdout"
        }
      ]
    },
    {
      "cell_type": "markdown",
      "metadata": {
        "id": "Ond3gl2nyn33",
        "colab_type": "text"
      },
      "source": [
        "Si introducimos en el argumento de la función `tuple()` un string, obtendremos una tupla, donde cada elemento almacena un caracter de la cadena:"
      ]
    },
    {
      "cell_type": "code",
      "metadata": {
        "id": "g0tHfSllx3on",
        "colab_type": "code",
        "outputId": "1c5e80a9-1dee-4ba1-e9bc-bec19195384e",
        "colab": {
          "base_uri": "https://localhost:8080/",
          "height": 34
        }
      },
      "source": [
        "cadena_tupla = tuple('tupla cadena')\n",
        "cadena_tupla"
      ],
      "execution_count": 0,
      "outputs": [
        {
          "output_type": "execute_result",
          "data": {
            "text/plain": [
              "('t', 'u', 'p', 'l', 'a', ' ', 'c', 'a', 'd', 'e', 'n', 'a')"
            ]
          },
          "metadata": {
            "tags": []
          },
          "execution_count": 20
        }
      ]
    },
    {
      "cell_type": "markdown",
      "metadata": {
        "id": "I-_huGYMzW20",
        "colab_type": "text"
      },
      "source": [
        "Si en lugar de un `string`, le pasamos una lista como argumento a la función `tuple()`, separando cada elemento de la lista por una coma, la función retornará una tupla cuyos elementos son los elementos de la lista:"
      ]
    },
    {
      "cell_type": "code",
      "metadata": {
        "id": "PxKMBzVCzAUQ",
        "colab_type": "code",
        "outputId": "6b942be5-cd43-4a4d-f4b5-6ecfba008155",
        "colab": {
          "base_uri": "https://localhost:8080/",
          "height": 34
        }
      },
      "source": [
        "tupla2 = tuple(['a',1,2,'aeiou'])\n",
        "tupla2"
      ],
      "execution_count": 0,
      "outputs": [
        {
          "output_type": "execute_result",
          "data": {
            "text/plain": [
              "('a', 1, 2, 'aeiou')"
            ]
          },
          "metadata": {
            "tags": []
          },
          "execution_count": 21
        }
      ]
    },
    {
      "cell_type": "markdown",
      "metadata": {
        "id": "1NrUn1IM4gCG",
        "colab_type": "text"
      },
      "source": [
        "##  **Asignación mediante tuplas**:\n",
        "\n",
        "El uso de tuplas en python para asignar/reasignar valores en `python`, permite la simplificación del código en programación.\n",
        "\n",
        "Imaginemos que quereremos intercambiar los valores almacenados en dos variables. Sea `v1` y `v2` dos variables predefinidas en nuestras líneas de código. Podemos definir una variable temporal `tmp` que almacene el valor de una de las variables, por ejemplo `v1`, hacer `v1=v2` y `v2=tmp`: "
      ]
    },
    {
      "cell_type": "code",
      "metadata": {
        "id": "VfB0GKJA1nzN",
        "colab_type": "code",
        "outputId": "ac34eb04-b2d0-4585-d048-ce59331a71c9",
        "colab": {
          "base_uri": "https://localhost:8080/",
          "height": 84
        }
      },
      "source": [
        "v1 = 1\n",
        "v2 = 2\n",
        "\n",
        "print(\"La variable v1 inicial es: \", v1)\n",
        "print(\"La variable v2 inicial es: \", v2)\n",
        "\n",
        "tmp = v1\n",
        "v1 = v2\n",
        "v2 = tmp\n",
        "\n",
        "print(\"La variable v1 final es: \", v1)\n",
        "print(\"La variable v2 final es: \", v2)"
      ],
      "execution_count": 0,
      "outputs": [
        {
          "output_type": "stream",
          "text": [
            "La variable v1 inicial es:  1\n",
            "La variable v2 inicial es:  2\n",
            "La variable v1 final es:  2\n",
            "La variable v2 final es:  1\n"
          ],
          "name": "stdout"
        }
      ]
    },
    {
      "cell_type": "markdown",
      "metadata": {
        "id": "7vEsWgfL6GaN",
        "colab_type": "text"
      },
      "source": [
        "Este procedimiento lo podemos reducir, y presentarlo de forma más elegante mediante el uso de tuplas:"
      ]
    },
    {
      "cell_type": "code",
      "metadata": {
        "id": "8BP3L_x96DAA",
        "colab_type": "code",
        "outputId": "c72c5e4e-240e-4e47-83dc-b2728e4194c2",
        "colab": {
          "base_uri": "https://localhost:8080/",
          "height": 84
        }
      },
      "source": [
        "v1 = 1\n",
        "v2 = 2\n",
        "\n",
        "print(\"La variable v1 inicial es: \", v1)\n",
        "print(\"La variable v2 inicial es: \", v2)\n",
        "\n",
        "v1, v2 = v2, v1\n",
        "\n",
        "print(\"La variable v1 final es: \", v1)\n",
        "print(\"La variable v2 final es: \", v2)"
      ],
      "execution_count": 0,
      "outputs": [
        {
          "output_type": "stream",
          "text": [
            "La variable v1 inicial es:  1\n",
            "La variable v2 inicial es:  2\n",
            "La variable v1 final es:  2\n",
            "La variable v2 final es:  1\n"
          ],
          "name": "stdout"
        }
      ]
    },
    {
      "cell_type": "markdown",
      "metadata": {
        "id": "whwo9JoC6c43",
        "colab_type": "text"
      },
      "source": [
        "Podemos observar que, hemos utilizado la sintaxis mediante tuplas para reasignar valores a las variables `v1` y `v2`; en ningún momento estas variables representan tuplas ya que, como mencionamos anteriormente, **las tuplas son inmutables**.\n",
        "\n",
        "Por otra parte, el número de variables al lado derecho de la asignación debe ser igual al número de variables al lado derecho de la asignación, en caso contrario, obtendremos una error de tipo `ValueError`:"
      ]
    },
    {
      "cell_type": "markdown",
      "metadata": {
        "id": "NeZv0Q6m8Go0",
        "colab_type": "text"
      },
      "source": [
        "**Ejemplo:** \n",
        "\n",
        "Almacene en dos variables el usuario y dominio del correo electronico `andresCastro19@udea.edu.co`:"
      ]
    },
    {
      "cell_type": "code",
      "metadata": {
        "id": "a9fEqIKF74Sx",
        "colab_type": "code",
        "outputId": "49632e17-598a-4bed-ff18-ea874783efc9",
        "colab": {
          "base_uri": "https://localhost:8080/",
          "height": 34
        }
      },
      "source": [
        "email = 'andresCastro19@udea.edu.co'\n",
        "\n",
        "usuario,dominio = email.split('@')\n",
        "\n",
        "print(\"En el e-mail, dominio es %s y el usuario %s\"%(usuario,dominio))"
      ],
      "execution_count": 0,
      "outputs": [
        {
          "output_type": "stream",
          "text": [
            "En el e-mail, dominio es andresCastro19 y el usuario udea.edu.co\n"
          ],
          "name": "stdout"
        }
      ]
    },
    {
      "cell_type": "markdown",
      "metadata": {
        "id": "arIAylbU-tMT",
        "colab_type": "text"
      },
      "source": [
        "## **Tuplas y valores retornado**\n",
        "\n",
        "En `python`, podemos obtener de funciones predefinidas o programadas, devoluciones en forma de tupla. Por ejemplo, la función predefinida en `python` `divmod` toma dos argumentos numéricos y devuelve el cociente y residuo entre ellos. Estos valores pueden ser almacenados en una variable que se convertirá en una tupla, o en dos variables independientes que constituirán números. Veamos esto:"
      ]
    },
    {
      "cell_type": "code",
      "metadata": {
        "id": "qJHQgQ1U9d6M",
        "colab_type": "code",
        "outputId": "85aca05d-41f3-481c-95ee-1556bb740c10",
        "colab": {
          "base_uri": "https://localhost:8080/",
          "height": 50
        }
      },
      "source": [
        "# Cociente y residuo almacenados como una tupla\n",
        "cos_res = divmod(13,6)\n",
        "print(\"La tupla cociente/residuo de dividir 13 entre 6 es: \", cos_res)\n",
        "\n",
        "# Cociente y residuo almacenados en variables independientes:\n",
        "cos,res = divmod(13,6)\n",
        "print(\"El cociente y residuo de dividir 13 entre 6 son: \", cos, \"y\",res)"
      ],
      "execution_count": 0,
      "outputs": [
        {
          "output_type": "stream",
          "text": [
            "La tupla cociente/residuo de dividir 13 entre 6 es:  (2, 1)\n",
            "El cociente y residuo de dividir 13 entre 6 son:  2 y 1\n"
          ],
          "name": "stdout"
        }
      ]
    },
    {
      "cell_type": "markdown",
      "metadata": {
        "id": "qtGCM3EjDeFy",
        "colab_type": "text"
      },
      "source": [
        "## **Argumentos de longitud variables como tuplas**\n",
        "\n",
        "Las funciones en `python` pueden tomar un número variable de argumentos. Por ejemplo, si se tiene un parametro que empieza por `*`, este juntará todos los argumentos. Definamos una función que inplima todos los argumentos que se pasen dentro de `()`:"
      ]
    },
    {
      "cell_type": "code",
      "metadata": {
        "id": "8O9DrJZTChMP",
        "colab_type": "code",
        "outputId": "287a8d2a-0579-4519-c740-81b5a3efcf9a",
        "colab": {
          "base_uri": "https://localhost:8080/",
          "height": 34
        }
      },
      "source": [
        "def print_arguments(*args):\n",
        "  print(args)\n",
        "\n",
        "print_arguments(1,2,3,'a','b')"
      ],
      "execution_count": 0,
      "outputs": [
        {
          "output_type": "stream",
          "text": [
            "(1, 2, 3, 'a', 'b')\n"
          ],
          "name": "stdout"
        }
      ]
    },
    {
      "cell_type": "markdown",
      "metadata": {
        "id": "8m2JBCAzXHcD",
        "colab_type": "text"
      },
      "source": [
        "Por el contario, si se tiene una tupla que define varios parámetros, una función de python que reciba exactamente dos argumentos no podrá recibir dicha tupla, sino sus elementos por separado. Vemos esto con la función `divmod()`"
      ]
    },
    {
      "cell_type": "markdown",
      "metadata": {
        "id": "z7fhy2jvdCRj",
        "colab_type": "text"
      },
      "source": [
        "## **Iteradores como listas y tuplas:**\n",
        "\n",
        "Existe una función predefinida en `python`, conocida como `zip`, la cual recibe como argumento dos conjuntos de secuencias y las intercala, formando una especie de \"cierre\".\n",
        "\n",
        "\n",
        "A efectos prácticos, imaginemos por ejemplo que tenemos dos tuplas; la primera de ellas contiene una lista de nombres `a=('Juan','Pedro','Maria')`; la segunda de ellas sus edades `b=(6,10,2)`. La función `zip(a,b)` intercala los elementos como se muestra en la siguiente gráfica.\n",
        "\n",
        "\n",
        "<center><p class=\"aligncenter\">\n",
        "    <img src=\"https://github.com/diplomado-bigdata-machinelearning-udea/curso0/blob/master/s03/img/zip_1.png?raw=true\" />\n",
        "</p></center>\n",
        "\n",
        "En forma de código, lo anterior podemos escribirlo como:\n"
      ]
    },
    {
      "cell_type": "code",
      "metadata": {
        "id": "6yAKd84AkzYC",
        "colab_type": "code",
        "outputId": "e35c2419-ca6e-44b8-b3a9-897564fcd0b1",
        "colab": {
          "base_uri": "https://localhost:8080/",
          "height": 34
        }
      },
      "source": [
        "nombres = ('Juan','Pedro','Maria')\n",
        "edades = (6,10,12)\n",
        "\n",
        "list(zip(nombres,edades))"
      ],
      "execution_count": 0,
      "outputs": [
        {
          "output_type": "execute_result",
          "data": {
            "text/plain": [
              "[('Juan', 6), ('Pedro', 10), ('Maria', 12)]"
            ]
          },
          "metadata": {
            "tags": []
          },
          "execution_count": 60
        }
      ]
    },
    {
      "cell_type": "markdown",
      "metadata": {
        "id": "fLwixKVvlOPu",
        "colab_type": "text"
      },
      "source": [
        "La función `zip()`, resulta sumamente útil a la hora de realizar clicos `for`, donde mezclemos gráficos y títulos, o datos y etiquétas almacenadas en diferentes variables. "
      ]
    },
    {
      "cell_type": "markdown",
      "metadata": {
        "id": "nL1kug2rau_5",
        "colab_type": "text"
      },
      "source": [
        "## **Ejercicios:**"
      ]
    },
    {
      "cell_type": "markdown",
      "metadata": {
        "id": "jH8OieKfa3tE",
        "colab_type": "text"
      },
      "source": [
        "###**Ejercicio:**\n",
        "\n",
        "Determine si la función predefinida en python `sum()` puede ser llamada de la forma\n",
        "\n",
        "```\n",
        "sum(23,14,55,2)\n",
        "```\n",
        "\n",
        "En caso de no ser posible, consulte la ayuda de la función y plantee una forma de resolver el problema.\n",
        "\n"
      ]
    },
    {
      "cell_type": "markdown",
      "metadata": {
        "id": "S5az8-fVcWq2",
        "colab_type": "text"
      },
      "source": [
        "Para ver la solución al ejercicio haga doble click **aquí**\n",
        "\n",
        "<!----\n",
        "\n",
        "# Celda 1\n",
        "sum(23,14,55,2)\n",
        "\n",
        "# Celda 2\n",
        "# Luego de consultar la ayuda de la función sum(), vemos que el argumento que recibe debe ser un iterable: una tupla lo es!\n",
        "\n",
        "numbers = (23,14,55,2)\n",
        "sum(numbers)\n",
        "\n",
        "----->"
      ]
    },
    {
      "cell_type": "markdown",
      "metadata": {
        "id": "f9zK68bLnKAu",
        "colab_type": "text"
      },
      "source": [
        "###**Ejercicio:**\n",
        "\n",
        "Imagine que tiene dos barajas separadas de cartas idénticas e incompletas definidas por el siguiente conjunto de cartas, organizadas una tras otra:\n",
        "\n",
        "'A picas', '2 picas', '3 picas', '4 picas', '5 picas', '6 picas', '7 picas', '8 picas', '9 picas'.\n",
        "\n",
        "Si se quiere barajar dichas cartas, de tal forma que queden por ordenadas por parejas las cartas iguales ¿cómo podria realizaarlo en `python`?"
      ]
    },
    {
      "cell_type": "markdown",
      "metadata": {
        "id": "D-lSndUJp7BD",
        "colab_type": "text"
      },
      "source": [
        "Para ver la solución al ejercicio haga doble click **aquí**\n",
        "\n",
        "<!----\n",
        "\n",
        "baraja = ['A picas', '2 picas', '3 picas', '4 picas', '5 picas', '6 picas', '7 picas', '8 picas', '9 picas']\n",
        "list(zip(baraja,baraja))\n",
        "\n",
        "----->"
      ]
    },
    {
      "cell_type": "code",
      "metadata": {
        "id": "wL2F1N5b5PU0",
        "colab_type": "code",
        "outputId": "8ce0fc6a-35e9-47d4-8688-b52dd4b07288",
        "colab": {
          "base_uri": "https://localhost:8080/",
          "height": 34
        }
      },
      "source": [
        "a = 2\n",
        "if type(a) == int:\n",
        "  print(\"el valor de el entero es \"+ str(a))\n",
        "else:\n",
        "  print(\"el número no es entero\")"
      ],
      "execution_count": 0,
      "outputs": [
        {
          "output_type": "stream",
          "text": [
            "el valor de el entero es 2\n"
          ],
          "name": "stdout"
        }
      ]
    }
  ]
}